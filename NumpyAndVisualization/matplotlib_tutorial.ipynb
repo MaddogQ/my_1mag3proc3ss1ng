{
 "cells": [
  {
   "cell_type": "markdown",
   "metadata": {},
   "source": [
    "# [Matplotlib](https://matplotlib.org/) Tutorial\n",
    "Joshua Stough, 202-\n",
    "\n",
    "[Matplotlib](https://matplotlib.org/) is a highly customizable visualization toolkit for Python. So highly customizable in terms of fonts, interactivity, and animations that we cannot possibly cover it in a short notebook like this. For more complete coverage and documentation you should definitely look to the [matplotlib tutorials](https://matplotlib.org/tutorials/index.html) online. \n",
    "\n",
    "As we use matplotlib constantly and in different ways throughout image processing, most of these usage cases shall be left to the moment we need them. This notebook is meant only to serve as an introduction with more explication.\n",
    "\n",
    "1. [Loading and Displaying Images](#load_display)\n",
    "1. [Plotting Image-Derived Information](#plot_info)"
   ]
  },
  {
   "cell_type": "markdown",
   "metadata": {},
   "source": [
    "## Imports\n",
    "\n",
    "- The [`%matplotlib widget` magic command](https://ipython.readthedocs.io/en/stable/interactive/magics.html#magic-matplotlib) starts up the matplotlib visualization package for interactive plotting capability through [ipympl](https://github.com/matplotlib/ipympl). We'll be using `widget` usually. Alternatives include `inline` for static figures (can be very useful to debug) and `notebook` if we were using classic Jupyter Notebook.\n",
    "- The business with `sys.path.insert` is to allow us to import modules from our utility directory (read more [here](https://stackoverflow.com/questions/49264194/import-py-file-in-another-directory-in-jupyter-notebook))."
   ]
  },
  {
   "cell_type": "code",
   "execution_count": null,
   "metadata": {},
   "outputs": [],
   "source": [
    "%matplotlib widget\n",
    "import matplotlib.pyplot as plt\n",
    "import urllib\n",
    "import numpy as np\n",
    "\n",
    "# For importing from alternative directory sources\n",
    "import sys  \n",
    "sys.path.insert(0, '../dip_utils')\n",
    "\n",
    "import matrix_utils"
   ]
  },
  {
   "cell_type": "markdown",
   "metadata": {},
   "source": [
    "<a id='load_display'></a>\n",
    "## Loading and Displaying Images\n",
    "We can use matplotlib's [`pyplot.imread`](https://matplotlib.org/3.3.3/api/_as_gen/matplotlib.pyplot.imread.html) to load images from our file system or even a URL. If successful, the function returns a numpy array (or really `ndarray`). To test here, we'll read in one of our book photos."
   ]
  },
  {
   "cell_type": "code",
   "execution_count": null,
   "metadata": {},
   "outputs": [],
   "source": [
    "I = plt.imread('../dip_pics/cat_small.png')"
   ]
  },
  {
   "cell_type": "code",
   "execution_count": null,
   "metadata": {},
   "outputs": [],
   "source": [
    "type(I)"
   ]
  },
  {
   "cell_type": "code",
   "execution_count": null,
   "metadata": {},
   "outputs": [],
   "source": [
    "matrix_utils.arr_info(I)"
   ]
  },
  {
   "cell_type": "markdown",
   "metadata": {},
   "source": [
    "Using our `arr_info` utility, we can see that the result is a 512x512x4 matrix of floating point numbers in the range [0,1]. The 512x512 represents the image space, while the x4 means there are four *channels* in this image. Normally, these four channels represent red, green, blue, and *alpha*, or opacity. In this case alpha is all 1, which means no transparency. \n",
    "\n",
    "To view the image we'll use the [`pyplot.imshow`](https://matplotlib.org/3.3.3/api/_as_gen/matplotlib.pyplot.imshow.html) function. If we're making multiple plots in a single notebook (usually the case), we'll also want to instantiate a figure in which to do the plotting, using [`pyplot.figure`](https://matplotlib.org/3.3.3/api/_as_gen/matplotlib.pyplot.figure.html)."
   ]
  },
  {
   "cell_type": "code",
   "execution_count": null,
   "metadata": {},
   "outputs": [],
   "source": [
    "plt.figure(figsize=(4,4))\n",
    "plt.imshow(I) # add semicolon ; to silense the printed output."
   ]
  },
  {
   "cell_type": "markdown",
   "metadata": {},
   "source": [
    "Play with the interactively plotted image above. You should be able to resize it (lower-right corner) or zoom into a particular area (little square button), or a number of other interactions all through click-and-drag.\n",
    "\n",
    "The image matrix `I` has three color channels. Each pixel color is actually represented by three color stimuli in red, green, and blue. While we discuss this in more detail elsewhere, for now you can think of `I` as really a red image, green image, and blue image all pasted together. For the purposes of showing off matplotlib, we'll display these three separate images."
   ]
  },
  {
   "cell_type": "code",
   "execution_count": null,
   "metadata": {},
   "outputs": [],
   "source": [
    "f, ax = plt.subplots(1,3,figsize=(7,2))\n",
    "ax[0].imshow(I[...,0], cmap='Reds') # White to deep red.\n",
    "ax[1].imshow(I[...,1], cmap='Greens')\n",
    "ax[2].imshow(I[...,2], cmap='Blues')"
   ]
  },
  {
   "cell_type": "markdown",
   "metadata": {},
   "source": [
    "As you can see, we used [`subplots`](https://matplotlib.org/3.3.3/api/_as_gen/matplotlib.pyplot.subplots.html) to create a figure with a one-by-three grid of axes, which is then returned as a list. We then call each axis' [`imshow`](https://matplotlib.org/3.3.3/api/_as_gen/matplotlib.axes.Axes.imshow.html) method to plot a different channel of the image. Some notes:\n",
    "- `figsize` is in width by height as a tuple, and would be in inches only if all the other non-Python elements of the display pipeline are calibrated appropriately. This is a parameter you'll likely have to play with.\n",
    "- There are scores of [colormaps](https://matplotlib.org/tutorials/colors/colormaps.html) available to you through the `cmap` parameter. Choosing which colormap might be appropriate is a much larger discussion that we leave for later.\n",
    "- Every time you execute the above cell, you generate a *new* figure. Even though the old ones become inaccessible, the active python kernel is keeping track of them. Execute the cell too many times and you will receive a warning about potential memory usage. This is not usually a problem, but be sure not to put `plt.figure()` into large loop unless you're sure that's what you want."
   ]
  },
  {
   "cell_type": "code",
   "execution_count": null,
   "metadata": {},
   "outputs": [],
   "source": [
    "f, ax = plt.subplots(1,4,figsize=(9,2), sharex=True, sharey=True)\n",
    "ax[0].imshow(I)\n",
    "ax[0].set_title('image')\n",
    "ax[1].imshow(I[...,0], cmap='Reds_r') # black to red colormap\n",
    "ax[1].set_title('red channel')\n",
    "ax[2].imshow(I[...,1], cmap='Greens_r')\n",
    "ax[2].set_title('green')\n",
    "ax[3].imshow(I[...,2], cmap='Blues_r')\n",
    "ax[3].set_title('blue')\n",
    "\n",
    "[a.axes.get_xaxis().set_visible(False) for a in ax];\n",
    "[a.axes.get_yaxis().set_visible(False) for a in ax];"
   ]
  },
  {
   "cell_type": "markdown",
   "metadata": {},
   "source": [
    "In the above cell I add several additional pieces for better visualization. \n",
    "- sharex\n",
    "- titles\n",
    "- I removed the axis markings "
   ]
  },
  {
   "cell_type": "markdown",
   "metadata": {},
   "source": [
    "<a id='plot_info'></a>\n",
    "## Plotting Image-derived Information"
   ]
  },
  {
   "cell_type": "code",
   "execution_count": null,
   "metadata": {},
   "outputs": [],
   "source": [
    "type(I)"
   ]
  },
  {
   "cell_type": "code",
   "execution_count": null,
   "metadata": {},
   "outputs": [],
   "source": []
  }
 ],
 "metadata": {
  "kernelspec": {
   "display_name": "Python 3",
   "language": "python",
   "name": "python3"
  },
  "language_info": {
   "codemirror_mode": {
    "name": "ipython",
    "version": 3
   },
   "file_extension": ".py",
   "mimetype": "text/x-python",
   "name": "python",
   "nbconvert_exporter": "python",
   "pygments_lexer": "ipython3",
   "version": "3.7.3"
  }
 },
 "nbformat": 4,
 "nbformat_minor": 4
}

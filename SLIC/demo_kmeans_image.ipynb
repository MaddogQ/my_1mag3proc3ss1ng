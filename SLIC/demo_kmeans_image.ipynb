{
 "cells": [
  {
   "cell_type": "markdown",
   "metadata": {},
   "source": [
    "# K-means iteration\n",
    "Stough, DIP\n",
    "\n",
    "Here we do k-means clustering on an image, to get\n",
    "representative colors for the image. "
   ]
  },
  {
   "cell_type": "code",
   "execution_count": 35,
   "metadata": {},
   "outputs": [],
   "source": [
    "%matplotlib widget\n",
    "import matplotlib.pyplot as plt\n",
    "import numpy as np\n",
    "\n",
    "# For importing from alternative directory sources\n",
    "import sys  \n",
    "sys.path.insert(0, '../dip_utils')\n",
    "\n",
    "from matrix_utils import (arr_info,\n",
    "                          make_linmap)\n",
    "from vis_utils import (vis_rgb_cube,\n",
    "                       vis_hists,\n",
    "                       vis_pair,\n",
    "                       vis_surface)\n",
    "\n",
    "from scipy.spatial.distance import cdist\n",
    "\n",
    "K = 16\n",
    "MAXITER = 20\n",
    "NUMPOINTS = 100"
   ]
  },
  {
   "cell_type": "code",
   "execution_count": 36,
   "metadata": {},
   "outputs": [],
   "source": [
    "I = plt.imread('../dip_pics/bellagio.jpg').astype(float)\n",
    "X = np.stack([I[...,i].ravel() for i in range(3)]).T"
   ]
  },
  {
   "cell_type": "code",
   "execution_count": 37,
   "metadata": {},
   "outputs": [
    {
     "data": {
      "application/vnd.jupyter.widget-view+json": {
       "model_id": "cce9698caca6414a823c8c6225f1bfe4",
       "version_major": 2,
       "version_minor": 0
      },
      "text/plain": [
       "Canvas(toolbar=Toolbar(toolitems=[('Home', 'Reset original view', 'home', 'home'), ('Back', 'Back to previous …"
      ]
     },
     "metadata": {},
     "output_type": "display_data"
    },
    {
     "data": {
      "text/plain": [
       "<matplotlib.image.AxesImage at 0x2d31b3868c8>"
      ]
     },
     "execution_count": 37,
     "metadata": {},
     "output_type": "execute_result"
    }
   ],
   "source": [
    "plt.figure()\n",
    "plt.imshow(I/255)"
   ]
  },
  {
   "cell_type": "code",
   "execution_count": 38,
   "metadata": {},
   "outputs": [
    {
     "data": {
      "text/plain": [
       "array([[118.,  57.,   0.],\n",
       "       [117.,  55.,   8.],\n",
       "       [125.,  64.,  10.],\n",
       "       [130.,  70.,   8.],\n",
       "       [119.,  58.,   3.],\n",
       "       [118.,  57.,  10.],\n",
       "       [112.,  52.,   2.],\n",
       "       [115.,  57.,  11.],\n",
       "       [104.,  52.,   4.],\n",
       "       [126.,  61.,   7.]])"
      ]
     },
     "execution_count": 38,
     "metadata": {},
     "output_type": "execute_result"
    }
   ],
   "source": [
    "X[:10,:]"
   ]
  },
  {
   "cell_type": "code",
   "execution_count": 39,
   "metadata": {},
   "outputs": [],
   "source": [
    "# For fun: Let's pick some random (and good) cluster colors\n",
    "clusterColors = np.random.rand(K, 3) # Picking random colors for each cluster.\n",
    "varsSoFar = np.var(clusterColors, axis=0) # Should be 1 x 2 of the variance of each column.\n",
    "\n",
    "for i in range(3*K):\n",
    "    tempColors = np.random.rand(K, 3) #Picking K random colors\n",
    "    vartemp = np.var(tempColors, axis=0)\n",
    "    if np.all(vartemp > varsSoFar):\n",
    "        clusterColors = tempColors\n",
    "        varsSoFar = vartemp"
   ]
  },
  {
   "cell_type": "code",
   "execution_count": 40,
   "metadata": {},
   "outputs": [
    {
     "data": {
      "text/plain": [
       "array([[0.74643787, 0.83693395, 0.58762399],\n",
       "       [0.88874007, 0.27330553, 0.13750022],\n",
       "       [0.12507434, 0.24678442, 0.8125241 ],\n",
       "       [0.8386965 , 0.6907052 , 0.38506042],\n",
       "       [0.64390606, 0.98813635, 0.19241079],\n",
       "       [0.74246131, 0.25433831, 0.03998556],\n",
       "       [0.78800876, 0.04163534, 0.62301089],\n",
       "       [0.26347326, 0.89919763, 0.92599247],\n",
       "       [0.05658958, 0.95707786, 0.29369148],\n",
       "       [0.27903652, 0.52557469, 0.9377231 ],\n",
       "       [0.45627356, 0.09604034, 0.31410873],\n",
       "       [0.08502557, 0.53111974, 0.54974435],\n",
       "       [0.40558427, 0.16552639, 0.302825  ],\n",
       "       [0.2927781 , 0.31564111, 0.64914525],\n",
       "       [0.16930597, 0.35896736, 0.80885688],\n",
       "       [0.07435364, 0.02949479, 0.98129898]])"
      ]
     },
     "execution_count": 40,
     "metadata": {},
     "output_type": "execute_result"
    }
   ],
   "source": [
    "clusterColors"
   ]
  },
  {
   "cell_type": "markdown",
   "metadata": {},
   "source": [
    "&nbsp;\n",
    "\n",
    "### Pick some initial cluster centers."
   ]
  },
  {
   "cell_type": "code",
   "execution_count": 41,
   "metadata": {},
   "outputs": [],
   "source": [
    "# K-means: initialization\n",
    "# pick K initial cluster centers.\n",
    "# whichinit = random.randint(0, len(X), size=(K,)) # Could generate repeats.\n",
    "whichinit = np.random.choice(len(X), size=K, replace=False)\n",
    "CC = X[whichinit, :].copy() # Cluster Centers"
   ]
  },
  {
   "cell_type": "code",
   "execution_count": 42,
   "metadata": {},
   "outputs": [
    {
     "data": {
      "text/plain": [
       "array([[229., 194., 138.],\n",
       "       [132.,  72.,  18.],\n",
       "       [ 34.,  37.,  16.],\n",
       "       [153.,  78.,  10.],\n",
       "       [126.,  98.,  74.],\n",
       "       [149.,  95.,  48.],\n",
       "       [102.,  53.,  12.],\n",
       "       [111., 107., 108.],\n",
       "       [113.,  45.,   0.],\n",
       "       [153., 132., 101.],\n",
       "       [ 77.,  29.,   6.],\n",
       "       [ 65.,  28.,   1.],\n",
       "       [133.,  58.,  27.],\n",
       "       [220., 162.,  80.],\n",
       "       [ 82.,  28.,   2.],\n",
       "       [ 23.,  62.,  35.]])"
      ]
     },
     "execution_count": 42,
     "metadata": {},
     "output_type": "execute_result"
    }
   ],
   "source": [
    "CC_init = CC.copy()\n",
    "CC"
   ]
  },
  {
   "cell_type": "markdown",
   "metadata": {},
   "source": [
    "&nbsp;\n",
    "\n",
    "### The main Expectation-Maximization loop\n",
    "\n",
    "Basically, we assign a cluster to each point, and then\n",
    "recompute the clusters based on that assignment."
   ]
  },
  {
   "cell_type": "code",
   "execution_count": 43,
   "metadata": {},
   "outputs": [],
   "source": [
    "# K-means: compute: for every data point determine which center is closest.\n",
    "# Need some magic function that computes the distance between every row of X\n",
    "# (the points) and every row of CC (the clusters).\n",
    "for i in range(MAXITER):\n",
    "    D = cdist(X, CC, 'euclidean')\n",
    "    # D should be NUMPOINTS x K\n",
    "\n",
    "    whichCluster = np.argmin(D, axis=1) # NUMPOINTS x 1 of which center was closest\n",
    "\n",
    "    # K-means: recompute the cluster centers as the mean of the data in each cluster\n",
    "    for c in range(K):\n",
    "        if np.any(whichCluster == c):\n",
    "            CC[c,:] = np.mean(X[whichCluster == c, :], axis=0) # average of just those that were closest to c."
   ]
  },
  {
   "cell_type": "code",
   "execution_count": 44,
   "metadata": {},
   "outputs": [
    {
     "data": {
      "application/vnd.jupyter.widget-view+json": {
       "model_id": "f3a3da9bb8aa48deb3567e1bdb89018f",
       "version_major": 2,
       "version_minor": 0
      },
      "text/plain": [
       "Canvas(toolbar=Toolbar(toolitems=[('Home', 'Reset original view', 'home', 'home'), ('Back', 'Back to previous …"
      ]
     },
     "metadata": {},
     "output_type": "display_data"
    }
   ],
   "source": [
    "# Doing this on a big image, don't want to scatter 100Ks of points, really slow.\n",
    "rands = np.sort(np.random.choice(len(X), size=500*K, replace=False))\n",
    "\n",
    "\n",
    "f, ax = plt.subplots(1,3, figsize=(9,3), sharex=True, sharey=True)\n",
    "ax[0].scatter(X[rands,0], X[rands,1], c='gray', s=20)\n",
    "ax[0].set_title('Original Data')\n",
    "\n",
    "\n",
    "ax[1].scatter(X[rands,0], X[rands,1], c='gray', alpha=.5, s=20)\n",
    "ax[1].scatter(CC_init[:,0], CC_init[:,1], c=CC_init/255, s=50)\n",
    "ax[1].set_title('Initial Cluster Centers')\n",
    "\n",
    "\n",
    "pointColors = CC[whichCluster[rands], :]\n",
    "clusterEdgeColors = 1 - clusterColors # for contrast, make the cluster center edges opposite.\n",
    "\n",
    "ax[2].scatter(X[rands,0], X[rands,1], c=pointColors/255, alpha=.5, s=20)\n",
    "ax[2].scatter(CC[:,0], CC[:,1], c=CC/255, edgecolors=clusterEdgeColors, s=50)\n",
    "ax[2].set_title('Recomputed Clusters')\n",
    "\n",
    "plt.tight_layout()"
   ]
  },
  {
   "cell_type": "code",
   "execution_count": 45,
   "metadata": {},
   "outputs": [
    {
     "data": {
      "application/vnd.jupyter.widget-view+json": {
       "model_id": "5b7453519808498b9df87602ec983905",
       "version_major": 2,
       "version_minor": 0
      },
      "text/plain": [
       "Canvas(toolbar=Toolbar(toolitems=[('Home', 'Reset original view', 'home', 'home'), ('Back', 'Back to previous …"
      ]
     },
     "metadata": {},
     "output_type": "display_data"
    }
   ],
   "source": [
    "f, ax = plt.subplots(1,2, figsize=(8,3), sharex=True, sharey=True)\n",
    "\n",
    "ax[0].imshow(I/255)\n",
    "ax[0].set_title('Original Image')\n",
    "\n",
    "# Reconstructed Image.\n",
    "Ir = np.reshape(CC[whichCluster,:], I.shape)\n",
    "ax[1].imshow(Ir/255) # Because it's floating point.\n",
    "ax[1].set_title('{} color reconstruction'.format(K))\n",
    "\n",
    "plt.tight_layout()"
   ]
  },
  {
   "cell_type": "code",
   "execution_count": 46,
   "metadata": {},
   "outputs": [
    {
     "data": {
      "application/vnd.jupyter.widget-view+json": {
       "model_id": "5544d88bc1184314ab5dd236e5d889a1",
       "version_major": 2,
       "version_minor": 0
      },
      "text/plain": [
       "Canvas(toolbar=Toolbar(toolitems=[('Home', 'Reset original view', 'home', 'home'), ('Back', 'Back to previous …"
      ]
     },
     "metadata": {},
     "output_type": "display_data"
    }
   ],
   "source": [
    "vis_rgb_cube(I)"
   ]
  },
  {
   "cell_type": "code",
   "execution_count": 47,
   "metadata": {},
   "outputs": [
    {
     "data": {
      "application/vnd.jupyter.widget-view+json": {
       "model_id": "d4f5e9fda53d4ed6acb2709452192658",
       "version_major": 2,
       "version_minor": 0
      },
      "text/plain": [
       "Canvas(toolbar=Toolbar(toolitems=[('Home', 'Reset original view', 'home', 'home'), ('Back', 'Back to previous …"
      ]
     },
     "metadata": {},
     "output_type": "display_data"
    }
   ],
   "source": [
    "vis_rgb_cube(Ir)"
   ]
  },
  {
   "cell_type": "code",
   "execution_count": 48,
   "metadata": {},
   "outputs": [],
   "source": [
    "origvals = I[..., 0].ravel()*256**2 + I[..., 1].ravel()*256 + I[..., 2].ravel()"
   ]
  },
  {
   "cell_type": "code",
   "execution_count": 49,
   "metadata": {},
   "outputs": [
    {
     "data": {
      "text/plain": [
       "223982"
      ]
     },
     "execution_count": 49,
     "metadata": {},
     "output_type": "execute_result"
    }
   ],
   "source": [
    "len(np.unique(origvals))"
   ]
  },
  {
   "cell_type": "code",
   "execution_count": 50,
   "metadata": {},
   "outputs": [],
   "source": [
    "newvals = Ir[..., 0].ravel()*256**2 + Ir[..., 1].ravel()*256 + Ir[..., 2].ravel()"
   ]
  },
  {
   "cell_type": "code",
   "execution_count": 51,
   "metadata": {},
   "outputs": [
    {
     "data": {
      "text/plain": [
       "16"
      ]
     },
     "execution_count": 51,
     "metadata": {},
     "output_type": "execute_result"
    }
   ],
   "source": [
    "len(np.unique(newvals))"
   ]
  },
  {
   "cell_type": "code",
   "execution_count": null,
   "metadata": {},
   "outputs": [],
   "source": []
  }
 ],
 "metadata": {
  "kernelspec": {
   "display_name": "Python 3",
   "language": "python",
   "name": "python3"
  },
  "language_info": {
   "codemirror_mode": {
    "name": "ipython",
    "version": 3
   },
   "file_extension": ".py",
   "mimetype": "text/x-python",
   "name": "python",
   "nbconvert_exporter": "python",
   "pygments_lexer": "ipython3",
   "version": "3.7.10"
  }
 },
 "nbformat": 4,
 "nbformat_minor": 4
}

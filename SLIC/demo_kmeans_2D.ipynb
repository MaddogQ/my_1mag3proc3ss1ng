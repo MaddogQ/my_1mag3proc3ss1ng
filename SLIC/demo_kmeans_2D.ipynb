{
 "cells": [
  {
   "cell_type": "markdown",
   "metadata": {},
   "source": [
    "# K-means single iteration\n",
    "Stough, DIP\n",
    "\n",
    "Demo on k means clustering. We generate a little data and then do a single\n",
    "step of the EM scheme for clustering.\n",
    "\n",
    "Finding objects in images:\n",
    "- Color coherence\n",
    "- Spatial coherence"
   ]
  },
  {
   "cell_type": "code",
   "execution_count": 36,
   "metadata": {},
   "outputs": [],
   "source": [
    "%matplotlib widget\n",
    "import matplotlib.pyplot as plt\n",
    "import numpy as np\n",
    "\n",
    "# For importing from alternative directory sources\n",
    "import sys  \n",
    "sys.path.insert(0, '../dip_utils')\n",
    "\n",
    "from matrix_utils import (arr_info,\n",
    "                          make_linmap)\n",
    "from vis_utils import (vis_rgb_cube,\n",
    "                       vis_hists,\n",
    "                       vis_pair,\n",
    "                       vis_surface)\n",
    "\n",
    "from scipy.spatial.distance import cdist\n",
    "\n",
    "K = 2\n",
    "NUMPOINTS = 1000"
   ]
  },
  {
   "cell_type": "code",
   "execution_count": 37,
   "metadata": {},
   "outputs": [],
   "source": [
    "# Let's generate 2d random data\n",
    "X1 = np.random.randn(NUMPOINTS//2, 2)  # Unit normal (mean 0, var 1)\n",
    "X2 = np.random.randn(NUMPOINTS//2, 2)\n",
    "\n",
    "X2[:,0] = 5 + 2*X2[:,0]\n",
    "X2[:,1] = 3 + 2*X2[:,1]  # X2 data should be mean (5,3) var 4\n",
    "\n",
    "X = np.concatenate([X1, X2], axis=0)"
   ]
  },
  {
   "cell_type": "markdown",
   "metadata": {},
   "source": [
    "### Look at the generated data"
   ]
  },
  {
   "cell_type": "code",
   "execution_count": 38,
   "metadata": {},
   "outputs": [
    {
     "data": {
      "application/vnd.jupyter.widget-view+json": {
       "model_id": "0331d137982f49e5952af6dbb13c8a9b",
       "version_major": 2,
       "version_minor": 0
      },
      "text/plain": [
       "Canvas(toolbar=Toolbar(toolitems=[('Home', 'Reset original view', 'home', 'home'), ('Back', 'Back to previous …"
      ]
     },
     "metadata": {},
     "output_type": "display_data"
    },
    {
     "data": {
      "text/plain": [
       "<matplotlib.collections.PathCollection at 0x1d1cbf41908>"
      ]
     },
     "execution_count": 38,
     "metadata": {},
     "output_type": "execute_result"
    }
   ],
   "source": [
    "plt.figure()\n",
    "plt.scatter(X[:,0], X[:,1])"
   ]
  },
  {
   "cell_type": "code",
   "execution_count": 39,
   "metadata": {},
   "outputs": [],
   "source": [
    "# For fun: Let's pick some random (and good) cluster colors\n",
    "clusterColors = np.random.rand(K, 3) # Picking random colors for each cluster.\n",
    "varsSoFar = np.var(clusterColors, axis=0) # Should be 1 x 2 of the variance of each column.\n",
    "\n",
    "for i in range(3*K):\n",
    "    tempColors = np.random.rand(K, 3) #Picking K random colors\n",
    "    vartemp = np.var(tempColors, axis=0)\n",
    "    if np.all(vartemp > varsSoFar):\n",
    "        clusterColors = tempColors\n",
    "        varsSoFar = vartemp"
   ]
  },
  {
   "cell_type": "code",
   "execution_count": 40,
   "metadata": {},
   "outputs": [],
   "source": [
    "# K-means: initialization\n",
    "# pick K initial cluster centers.\n",
    "# whichinit = random.randint(0, len(X), size=(K,)) # Could generate repeats.\n",
    "whichinit = np.random.choice(len(X), size=K, replace=False)\n",
    "CC = X[whichinit, :].copy() # Cluster Centers\n",
    "\n",
    "CC_init = CC.copy()"
   ]
  },
  {
   "cell_type": "code",
   "execution_count": 41,
   "metadata": {},
   "outputs": [
    {
     "data": {
      "text/plain": [
       "array([[6.58570957, 2.65056788],\n",
       "       [5.19440058, 5.30489351]])"
      ]
     },
     "execution_count": 41,
     "metadata": {},
     "output_type": "execute_result"
    }
   ],
   "source": [
    "CC"
   ]
  },
  {
   "cell_type": "code",
   "execution_count": 42,
   "metadata": {},
   "outputs": [
    {
     "data": {
      "application/vnd.jupyter.widget-view+json": {
       "model_id": "12b9c476a5a2466db1ce1c5838e36d40",
       "version_major": 2,
       "version_minor": 0
      },
      "text/plain": [
       "Canvas(toolbar=Toolbar(toolitems=[('Home', 'Reset original view', 'home', 'home'), ('Back', 'Back to previous …"
      ]
     },
     "metadata": {},
     "output_type": "display_data"
    },
    {
     "data": {
      "text/plain": [
       "<matplotlib.collections.PathCollection at 0x1d1cc316788>"
      ]
     },
     "execution_count": 42,
     "metadata": {},
     "output_type": "execute_result"
    }
   ],
   "source": [
    "plt.figure(figsize=(4,4))\n",
    "plt.scatter(X[:,0], X[:,1], c='gray', alpha=.5)\n",
    "plt.scatter(CC[:,0], CC[:,1], s=30, c=clusterColors)"
   ]
  },
  {
   "cell_type": "code",
   "execution_count": 43,
   "metadata": {},
   "outputs": [],
   "source": [
    "# K-means: compute: for every data point determine which center is closest.\n",
    "# Need some magic function that computes the distance between every row of X\n",
    "# (the points) and every row of CC (the clusters).\n",
    "D = cdist(X, CC, 'euclidean')\n",
    "# D should be NUMPOINTS x K\n",
    "\n",
    "whichCluster = np.argmin(D, axis=1) # NUMPOINTS x 1 of which center was closest"
   ]
  },
  {
   "cell_type": "code",
   "execution_count": 44,
   "metadata": {},
   "outputs": [
    {
     "data": {
      "text/plain": [
       "array([[8.41736571, 8.34468327],\n",
       "       [6.73222898, 6.88836513],\n",
       "       [8.44733644, 8.50686989],\n",
       "       [7.57209471, 7.56758002],\n",
       "       [7.12863689, 7.2459259 ],\n",
       "       [6.3308682 , 6.28511512],\n",
       "       [5.3577122 , 5.23548232],\n",
       "       [7.92974429, 7.99907557],\n",
       "       [6.00956935, 6.37432658],\n",
       "       [7.42153421, 7.15924759]])"
      ]
     },
     "execution_count": 44,
     "metadata": {},
     "output_type": "execute_result"
    }
   ],
   "source": [
    "D[:10,:]"
   ]
  },
  {
   "cell_type": "code",
   "execution_count": 45,
   "metadata": {},
   "outputs": [
    {
     "data": {
      "text/plain": [
       "array([-1.5056444 ,  0.33064622])"
      ]
     },
     "execution_count": 45,
     "metadata": {},
     "output_type": "execute_result"
    }
   ],
   "source": [
    "X[0,:]"
   ]
  },
  {
   "cell_type": "code",
   "execution_count": 46,
   "metadata": {},
   "outputs": [
    {
     "data": {
      "application/vnd.jupyter.widget-view+json": {
       "model_id": "f0809fadcdb1490394213baeb13acd18",
       "version_major": 2,
       "version_minor": 0
      },
      "text/plain": [
       "Canvas(toolbar=Toolbar(toolitems=[('Home', 'Reset original view', 'home', 'home'), ('Back', 'Back to previous …"
      ]
     },
     "metadata": {},
     "output_type": "display_data"
    },
    {
     "data": {
      "text/plain": [
       "<matplotlib.collections.PathCollection at 0x1d1cc382f88>"
      ]
     },
     "execution_count": 46,
     "metadata": {},
     "output_type": "execute_result"
    }
   ],
   "source": [
    "plt.figure(figsize=(4,4))\n",
    "plt.scatter(X[:,0], X[:,1], c=clusterColors[whichCluster], alpha=.5)"
   ]
  },
  {
   "cell_type": "code",
   "execution_count": 47,
   "metadata": {},
   "outputs": [],
   "source": [
    "# K-means: recompute the cluster centers as the mean of the data in each cluster\n",
    "for c in range(K):\n",
    "    CC[c,:] = np.mean(X[whichCluster == c, :], axis=0) # average of just those that were closest to c."
   ]
  },
  {
   "cell_type": "code",
   "execution_count": 48,
   "metadata": {},
   "outputs": [
    {
     "data": {
      "text/plain": [
       "array([2.50390014, 0.54106784])"
      ]
     },
     "execution_count": 48,
     "metadata": {},
     "output_type": "execute_result"
    }
   ],
   "source": [
    "np.mean(X[whichCluster == 0, :],axis=0)"
   ]
  },
  {
   "cell_type": "code",
   "execution_count": 49,
   "metadata": {},
   "outputs": [
    {
     "data": {
      "text/plain": [
       "309"
      ]
     },
     "execution_count": 49,
     "metadata": {},
     "output_type": "execute_result"
    }
   ],
   "source": [
    "(whichCluster == 1).sum()"
   ]
  },
  {
   "cell_type": "code",
   "execution_count": 50,
   "metadata": {},
   "outputs": [
    {
     "data": {
      "application/vnd.jupyter.widget-view+json": {
       "model_id": "adac05869ce34e93b7561204b399e181",
       "version_major": 2,
       "version_minor": 0
      },
      "text/plain": [
       "Canvas(toolbar=Toolbar(toolitems=[('Home', 'Reset original view', 'home', 'home'), ('Back', 'Back to previous …"
      ]
     },
     "metadata": {},
     "output_type": "display_data"
    },
    {
     "data": {
      "text/plain": [
       "<matplotlib.collections.PathCollection at 0x1d1cc3d9fc8>"
      ]
     },
     "execution_count": 50,
     "metadata": {},
     "output_type": "execute_result"
    }
   ],
   "source": [
    "plt.figure(figsize=(4,4))\n",
    "plt.scatter(X[:,0], X[:,1], c='gray', alpha=.5)\n",
    "plt.scatter(CC[:,0], CC[:,1], s=30, c=clusterColors)"
   ]
  },
  {
   "cell_type": "code",
   "execution_count": 51,
   "metadata": {},
   "outputs": [],
   "source": [
    "# K-means: compute: for every data point determine which center is closest.\n",
    "# Need some magic function that computes the distance between every row of X\n",
    "# (the points) and every row of CC (the clusters).\n",
    "D = cdist(X, CC, 'euclidean')\n",
    "# D should be NUMPOINTS x K\n",
    "\n",
    "whichCluster = np.argmin(D, axis=1) # NUMPOINTS x 1 of which center was closest"
   ]
  },
  {
   "cell_type": "code",
   "execution_count": 52,
   "metadata": {},
   "outputs": [
    {
     "data": {
      "application/vnd.jupyter.widget-view+json": {
       "model_id": "ee346b39152741bdb75ed9af7a8ae138",
       "version_major": 2,
       "version_minor": 0
      },
      "text/plain": [
       "Canvas(toolbar=Toolbar(toolitems=[('Home', 'Reset original view', 'home', 'home'), ('Back', 'Back to previous …"
      ]
     },
     "metadata": {},
     "output_type": "display_data"
    },
    {
     "data": {
      "text/plain": [
       "<matplotlib.collections.PathCollection at 0x1d1cc42a888>"
      ]
     },
     "execution_count": 52,
     "metadata": {},
     "output_type": "execute_result"
    }
   ],
   "source": [
    "plt.figure(figsize=(4,4))\n",
    "plt.scatter(X[:,0], X[:,1], c=clusterColors[whichCluster], alpha=.5)"
   ]
  },
  {
   "cell_type": "code",
   "execution_count": null,
   "metadata": {},
   "outputs": [],
   "source": []
  },
  {
   "cell_type": "code",
   "execution_count": null,
   "metadata": {},
   "outputs": [],
   "source": []
  },
  {
   "cell_type": "code",
   "execution_count": 53,
   "metadata": {},
   "outputs": [
    {
     "data": {
      "application/vnd.jupyter.widget-view+json": {
       "model_id": "d7a712b75c1b48e587711f68a6ba08bc",
       "version_major": 2,
       "version_minor": 0
      },
      "text/plain": [
       "Canvas(toolbar=Toolbar(toolitems=[('Home', 'Reset original view', 'home', 'home'), ('Back', 'Back to previous …"
      ]
     },
     "metadata": {},
     "output_type": "display_data"
    },
    {
     "data": {
      "text/plain": [
       "Text(0.5, 1.0, 'Recomputed Clusters')"
      ]
     },
     "execution_count": 53,
     "metadata": {},
     "output_type": "execute_result"
    }
   ],
   "source": [
    "f, ax = plt.subplots(1,3, figsize=(9,3), sharex=True, sharey=True)\n",
    "ax[0].scatter(X[:,0], X[:,1], c='gray', s=20)\n",
    "ax[0].set_title('Original Data')\n",
    "\n",
    "\n",
    "ax[1].scatter(X[:,0], X[:,1], c='gray', alpha=.5, s=20)\n",
    "ax[1].scatter(CC_init[:,0], CC_init[:,1], c=clusterColors, s=50)\n",
    "ax[1].set_title('Initial Cluster Centers')\n",
    "\n",
    "\n",
    "\n",
    "\n",
    "\n",
    "\n",
    "pointColors = clusterColors[whichCluster]\n",
    "clusterEdgeColors = 1 - clusterColors # for contrast, make the cluster center edges opposite.\n",
    "\n",
    "ax[2].scatter(X[:,0], X[:,1], c=pointColors, alpha=.5, s=20)\n",
    "ax[2].scatter(CC[:,0], CC[:,1], c=clusterColors, edgecolors=clusterEdgeColors, s=50)\n",
    "ax[2].set_title('Recomputed Clusters')"
   ]
  },
  {
   "cell_type": "code",
   "execution_count": null,
   "metadata": {},
   "outputs": [],
   "source": []
  },
  {
   "cell_type": "code",
   "execution_count": null,
   "metadata": {},
   "outputs": [],
   "source": []
  }
 ],
 "metadata": {
  "kernelspec": {
   "display_name": "Python 3",
   "language": "python",
   "name": "python3"
  },
  "language_info": {
   "codemirror_mode": {
    "name": "ipython",
    "version": 3
   },
   "file_extension": ".py",
   "mimetype": "text/x-python",
   "name": "python",
   "nbconvert_exporter": "python",
   "pygments_lexer": "ipython3",
   "version": "3.7.10"
  }
 },
 "nbformat": 4,
 "nbformat_minor": 4
}

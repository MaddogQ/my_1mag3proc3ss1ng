{
 "cells": [
  {
   "cell_type": "markdown",
   "metadata": {},
   "source": [
    "# SLIC Superpixels\n",
    "stough, 202-\n",
    "\n",
    "DIP 10.5\n",
    "\n",
    "This shows [Simple Linear Iterative Clustering](https://www.pyimagesearch.com/2014/07/28/a-slic-superpixel-tutorial-using-python/) at work to show superpixel segmentation of images. We'll split this up to look at the algorithm in detail. [`skimage`](https://scikit-image.org/docs/dev/api/skimage.segmentation.html) includes numerous segmentation methods, but we're interested here in understanding the details."
   ]
  },
  {
   "cell_type": "code",
   "execution_count": 1,
   "metadata": {},
   "outputs": [],
   "source": [
    "%matplotlib widget\n",
    "import matplotlib.pyplot as plt\n",
    "import numpy as np\n",
    "from scipy.spatial.distance import cdist\n",
    "import scipy.stats as stats\n",
    "import scipy.ndimage as ndimage\n",
    "\n",
    "import skimage.filters as filters\n",
    "import skimage.color as color\n",
    "\n",
    "import sys  \n",
    "sys.path.insert(0, '../dip_utils')\n",
    "\n",
    "from matrix_utils import (arr_info,\n",
    "                          make_linmap)\n",
    "from vis_utils import (vis_rgb_cube,\n",
    "                       vis_hists,\n",
    "                       vis_pair,\n",
    "                       vis_surface)\n",
    "\n",
    "IMAGE = 'clown_fish.jpg'\n",
    "# IMAGE = 'bellagio.jpg'\n",
    "\n",
    "SUPERPIXELS = 300\n",
    "MAXITER = 6 #20\n",
    "T = 10 # convergence threshold."
   ]
  },
  {
   "cell_type": "markdown",
   "metadata": {},
   "source": [
    "## Pre-defined functions"
   ]
  },
  {
   "cell_type": "code",
   "execution_count": 2,
   "metadata": {},
   "outputs": [],
   "source": [
    "#clean-up function for the label image.\n",
    "def myfunc(x):\n",
    "    return stats.mode(x, axis=None)[0]\n",
    "\n",
    "def reinitM():\n",
    "    global M, I, s, ishape\n",
    "\n",
    "    # Should pick the lowest gradient pixel among neighbors of each cluster\n",
    "    # to reinitialize it. So, get gradient image.\n",
    "    gradI = filters.sobel(color.rgb2gray(I))\n",
    "\n",
    "    # Now, loop over each cluster and see if we should move it slightly.\n",
    "    for mi in range(len(M)):\n",
    "        i, j = [int(q) for q in np.round(M[mi, 3:])]\n",
    "        curbest = gradI[i,j] # minimum gradient so far.\n",
    "        bi, bj = i, j # best i and j so far.\n",
    "\n",
    "        # look over all our immediate neighbors for lowest gradient.\n",
    "        for x in range(i-1, i+2):\n",
    "            if x < 0 or x > I.shape[0]:\n",
    "                continue\n",
    "            for y in range(j-1, j+2):\n",
    "                if y < 0 or y > I.shape[1]:\n",
    "                    continue\n",
    "\n",
    "                if gradI[x,y] < curbest:\n",
    "                    curbest = gradI[x,y]\n",
    "                    bi, bj = x, y\n",
    "\n",
    "        M[mi, :] = np.concatenate((I[bi, bj], [bi, bj]), axis=0)\n",
    "\n",
    "def convergedYet():\n",
    "    global M, Mprev, iteration\n",
    "    normdiff = np.sqrt(np.sum((M-Mprev)**2))\n",
    "    print('iteration %d normdiff %f.' % (iteration, normdiff))\n",
    "    return normdiff < T\n",
    "\n",
    "# Now like in the paper, the borders between superpixels in white\n",
    "def onEdge(x):\n",
    "    return ((x[1] != x[4]) or (x[3]!=x[4]) or (x[5]!=x[4]) or (x[7]!=x[4]))"
   ]
  },
  {
   "cell_type": "markdown",
   "metadata": {},
   "source": [
    "## Load the image"
   ]
  },
  {
   "cell_type": "code",
   "execution_count": 3,
   "metadata": {},
   "outputs": [],
   "source": [
    "I = plt.imread('../dip_pics/' + IMAGE).astype('float')\n",
    "ishape = I.shape\n",
    "\n",
    "# s = the sampling interval.\n",
    "s = int(np.round(np.sqrt((ishape[0]*ishape[1])//SUPERPIXELS)))\n",
    "\n",
    "# cs = the color distance scaler square, see Eq. 10-91\n",
    "# cs = 3*255**2 #Just the maximum color discrepancy: weights regular regions highly.\n",
    "cs = 100**2 # Trying for image boundaries instead of spatial regularity."
   ]
  },
  {
   "cell_type": "code",
   "execution_count": 4,
   "metadata": {},
   "outputs": [
    {
     "data": {
      "application/vnd.jupyter.widget-view+json": {
       "model_id": "652eabb160ca4d6c8f22361d5db4f5ec",
       "version_major": 2,
       "version_minor": 0
      },
      "text/plain": [
       "Canvas(toolbar=Toolbar(toolitems=[('Home', 'Reset original view', 'home', 'home'), ('Back', 'Back to previous …"
      ]
     },
     "metadata": {},
     "output_type": "display_data"
    }
   ],
   "source": [
    "vis_hists(I/255)"
   ]
  },
  {
   "cell_type": "code",
   "execution_count": 5,
   "metadata": {},
   "outputs": [
    {
     "data": {
      "text/plain": [
       "13"
      ]
     },
     "execution_count": 5,
     "metadata": {},
     "output_type": "execute_result"
    }
   ],
   "source": [
    "s"
   ]
  },
  {
   "cell_type": "code",
   "execution_count": 6,
   "metadata": {},
   "outputs": [
    {
     "data": {
      "text/plain": [
       "19.692307692307693"
      ]
     },
     "execution_count": 6,
     "metadata": {},
     "output_type": "execute_result"
    }
   ],
   "source": [
    "256/13"
   ]
  },
  {
   "cell_type": "code",
   "execution_count": 7,
   "metadata": {},
   "outputs": [],
   "source": [
    "# Make M, the initial cluster centers. This should be SUPERPIXELS x 5, for\n",
    "# the spatial coords of the cluster centers and the average color of them.\n",
    "M = np.concatenate([np.expand_dims(IC, axis=1) for IC in\n",
    "                    [I[s::s, s::s, 0].ravel(),\n",
    "                     I[s::s, s::s, 1].ravel(),\n",
    "                     I[s::s, s::s, 2].ravel(),\n",
    "                     ]], axis=1)\n",
    "xm = np.meshgrid(np.arange(s, ishape[0], s), np.arange(s, ishape[1], s), indexing='ij')\n",
    "M = np.append(M, np.concatenate([np.expand_dims(xi, axis=1) for xi in\n",
    "                                 [x.ravel() for x in xm]], axis=1),\n",
    "              axis=1)"
   ]
  },
  {
   "cell_type": "code",
   "execution_count": 8,
   "metadata": {},
   "outputs": [
    {
     "data": {
      "text/plain": [
       "(288, 5)"
      ]
     },
     "execution_count": 8,
     "metadata": {},
     "output_type": "execute_result"
    }
   ],
   "source": [
    "M.shape"
   ]
  },
  {
   "cell_type": "code",
   "execution_count": 9,
   "metadata": {},
   "outputs": [
    {
     "data": {
      "text/plain": [
       "array([[ 52., 114., 139.,  13.,  13.],\n",
       "       [ 28.,  90., 141.,  13.,  26.],\n",
       "       [ 23.,  57.,  59.,  13.,  39.]])"
      ]
     },
     "execution_count": 9,
     "metadata": {},
     "output_type": "execute_result"
    }
   ],
   "source": [
    "M[:3, :]"
   ]
  },
  {
   "cell_type": "code",
   "execution_count": 10,
   "metadata": {},
   "outputs": [
    {
     "data": {
      "text/plain": [
       "(array([[ 13,  13,  13,  13,  13,  13,  13,  13,  13,  13,  13,  13,  13,\n",
       "          13,  13,  13,  13,  13],\n",
       "        [ 26,  26,  26,  26,  26,  26,  26,  26,  26,  26,  26,  26,  26,\n",
       "          26,  26,  26,  26,  26],\n",
       "        [ 39,  39,  39,  39,  39,  39,  39,  39,  39,  39,  39,  39,  39,\n",
       "          39,  39,  39,  39,  39],\n",
       "        [ 52,  52,  52,  52,  52,  52,  52,  52,  52,  52,  52,  52,  52,\n",
       "          52,  52,  52,  52,  52],\n",
       "        [ 65,  65,  65,  65,  65,  65,  65,  65,  65,  65,  65,  65,  65,\n",
       "          65,  65,  65,  65,  65],\n",
       "        [ 78,  78,  78,  78,  78,  78,  78,  78,  78,  78,  78,  78,  78,\n",
       "          78,  78,  78,  78,  78],\n",
       "        [ 91,  91,  91,  91,  91,  91,  91,  91,  91,  91,  91,  91,  91,\n",
       "          91,  91,  91,  91,  91],\n",
       "        [104, 104, 104, 104, 104, 104, 104, 104, 104, 104, 104, 104, 104,\n",
       "         104, 104, 104, 104, 104],\n",
       "        [117, 117, 117, 117, 117, 117, 117, 117, 117, 117, 117, 117, 117,\n",
       "         117, 117, 117, 117, 117],\n",
       "        [130, 130, 130, 130, 130, 130, 130, 130, 130, 130, 130, 130, 130,\n",
       "         130, 130, 130, 130, 130],\n",
       "        [143, 143, 143, 143, 143, 143, 143, 143, 143, 143, 143, 143, 143,\n",
       "         143, 143, 143, 143, 143],\n",
       "        [156, 156, 156, 156, 156, 156, 156, 156, 156, 156, 156, 156, 156,\n",
       "         156, 156, 156, 156, 156],\n",
       "        [169, 169, 169, 169, 169, 169, 169, 169, 169, 169, 169, 169, 169,\n",
       "         169, 169, 169, 169, 169],\n",
       "        [182, 182, 182, 182, 182, 182, 182, 182, 182, 182, 182, 182, 182,\n",
       "         182, 182, 182, 182, 182],\n",
       "        [195, 195, 195, 195, 195, 195, 195, 195, 195, 195, 195, 195, 195,\n",
       "         195, 195, 195, 195, 195],\n",
       "        [208, 208, 208, 208, 208, 208, 208, 208, 208, 208, 208, 208, 208,\n",
       "         208, 208, 208, 208, 208]]),\n",
       " array([[ 13,  26,  39,  52,  65,  78,  91, 104, 117, 130, 143, 156, 169,\n",
       "         182, 195, 208, 221, 234],\n",
       "        [ 13,  26,  39,  52,  65,  78,  91, 104, 117, 130, 143, 156, 169,\n",
       "         182, 195, 208, 221, 234],\n",
       "        [ 13,  26,  39,  52,  65,  78,  91, 104, 117, 130, 143, 156, 169,\n",
       "         182, 195, 208, 221, 234],\n",
       "        [ 13,  26,  39,  52,  65,  78,  91, 104, 117, 130, 143, 156, 169,\n",
       "         182, 195, 208, 221, 234],\n",
       "        [ 13,  26,  39,  52,  65,  78,  91, 104, 117, 130, 143, 156, 169,\n",
       "         182, 195, 208, 221, 234],\n",
       "        [ 13,  26,  39,  52,  65,  78,  91, 104, 117, 130, 143, 156, 169,\n",
       "         182, 195, 208, 221, 234],\n",
       "        [ 13,  26,  39,  52,  65,  78,  91, 104, 117, 130, 143, 156, 169,\n",
       "         182, 195, 208, 221, 234],\n",
       "        [ 13,  26,  39,  52,  65,  78,  91, 104, 117, 130, 143, 156, 169,\n",
       "         182, 195, 208, 221, 234],\n",
       "        [ 13,  26,  39,  52,  65,  78,  91, 104, 117, 130, 143, 156, 169,\n",
       "         182, 195, 208, 221, 234],\n",
       "        [ 13,  26,  39,  52,  65,  78,  91, 104, 117, 130, 143, 156, 169,\n",
       "         182, 195, 208, 221, 234],\n",
       "        [ 13,  26,  39,  52,  65,  78,  91, 104, 117, 130, 143, 156, 169,\n",
       "         182, 195, 208, 221, 234],\n",
       "        [ 13,  26,  39,  52,  65,  78,  91, 104, 117, 130, 143, 156, 169,\n",
       "         182, 195, 208, 221, 234],\n",
       "        [ 13,  26,  39,  52,  65,  78,  91, 104, 117, 130, 143, 156, 169,\n",
       "         182, 195, 208, 221, 234],\n",
       "        [ 13,  26,  39,  52,  65,  78,  91, 104, 117, 130, 143, 156, 169,\n",
       "         182, 195, 208, 221, 234],\n",
       "        [ 13,  26,  39,  52,  65,  78,  91, 104, 117, 130, 143, 156, 169,\n",
       "         182, 195, 208, 221, 234],\n",
       "        [ 13,  26,  39,  52,  65,  78,  91, 104, 117, 130, 143, 156, 169,\n",
       "         182, 195, 208, 221, 234]]))"
      ]
     },
     "execution_count": 10,
     "metadata": {},
     "output_type": "execute_result"
    }
   ],
   "source": [
    "xm[0], xm[1]"
   ]
  },
  {
   "cell_type": "code",
   "execution_count": 11,
   "metadata": {},
   "outputs": [
    {
     "data": {
      "text/plain": [
       "(2, (16, 18))"
      ]
     },
     "execution_count": 11,
     "metadata": {},
     "output_type": "execute_result"
    }
   ],
   "source": [
    "len(xm), xm[1].shape"
   ]
  },
  {
   "cell_type": "code",
   "execution_count": 12,
   "metadata": {},
   "outputs": [],
   "source": [
    "# Here we should reinitialize these M to the lowest-gradient point in the 3x3,\n",
    "# but we won't yet.\n",
    "reinitM()\n",
    "\n",
    "# Maintain a copy of the previous M, so that we can tell if it is converging.\n",
    "Mprev = M.copy()\n",
    "\n",
    "\n",
    "# Initial distance measure D for every pixel, and label\n",
    "# D = np.finfo.max*np.ones((ishape[0], ishape[1]))\n",
    "D = 1.0e20*np.ones((ishape[0], ishape[1]))\n",
    "L = -1*np.ones((ishape[0], ishape[1]))\n",
    "\n",
    "\n",
    "# Eq. 10-91 shows that the distance we want is a combination of the\n",
    "# spatial and color distance. The spatial distance doesn't change though,\n",
    "# in that i+x, j+y is always a fixed distance from i,j. We should precompute\n",
    "# all of those distances...but not now.\n",
    "\n",
    "\n",
    "# The spatial distance is constant over all windows [-s, s] for every\n",
    "# cluster, so we'll just precompute. We'll also get the coordinate of the\n",
    "# whole window in xr, yr, for use later as well.\n",
    "xr, yr = np.meshgrid(np.arange(-s, s + 1), np.arange(-s, s + 1), indexing='ij')\n",
    "scoords = np.concatenate([np.expand_dims(x, axis=1) for x in [xr.ravel(), yr.ravel()]], axis=1)\n",
    "sDist = np.sqrt(np.sum(scoords**2, axis = 1))\n",
    "spaceDist = np.reshape(sDist, (2*s+1, 2*s+1)) # distance from origin of the window, as matrix."
   ]
  },
  {
   "cell_type": "code",
   "execution_count": 13,
   "metadata": {},
   "outputs": [
    {
     "data": {
      "text/plain": [
       "((27, 27), dtype('float64'), 0.0, 18.384776310850235)"
      ]
     },
     "execution_count": 13,
     "metadata": {},
     "output_type": "execute_result"
    }
   ],
   "source": [
    "arr_info(spaceDist)"
   ]
  },
  {
   "cell_type": "code",
   "execution_count": 14,
   "metadata": {},
   "outputs": [
    {
     "data": {
      "application/vnd.jupyter.widget-view+json": {
       "model_id": "f743b0fac35246f79d756891079b3b93",
       "version_major": 2,
       "version_minor": 0
      },
      "text/plain": [
       "Canvas(toolbar=Toolbar(toolitems=[('Home', 'Reset original view', 'home', 'home'), ('Back', 'Back to previous …"
      ]
     },
     "metadata": {},
     "output_type": "display_data"
    },
    {
     "data": {
      "text/plain": [
       "<matplotlib.image.AxesImage at 0x1f6f8c7ae88>"
      ]
     },
     "execution_count": 14,
     "metadata": {},
     "output_type": "execute_result"
    }
   ],
   "source": [
    "plt.figure()\n",
    "plt.imshow(spaceDist)"
   ]
  },
  {
   "cell_type": "code",
   "execution_count": 15,
   "metadata": {},
   "outputs": [
    {
     "data": {
      "application/vnd.jupyter.widget-view+json": {
       "model_id": "9ae86a4d413e4b369b3c37182e0a39b9",
       "version_major": 2,
       "version_minor": 0
      },
      "text/plain": [
       "Canvas(toolbar=Toolbar(toolitems=[('Home', 'Reset original view', 'home', 'home'), ('Back', 'Back to previous …"
      ]
     },
     "metadata": {},
     "output_type": "display_data"
    },
    {
     "name": "stdout",
     "output_type": "stream",
     "text": [
      "iteration 1 normdiff 537.882416.\n"
     ]
    },
    {
     "data": {
      "application/vnd.jupyter.widget-view+json": {
       "model_id": "7b3db8b69bed42d28e60451223d397d0",
       "version_major": 2,
       "version_minor": 0
      },
      "text/plain": [
       "Canvas(toolbar=Toolbar(toolitems=[('Home', 'Reset original view', 'home', 'home'), ('Back', 'Back to previous …"
      ]
     },
     "metadata": {},
     "output_type": "display_data"
    },
    {
     "name": "stdout",
     "output_type": "stream",
     "text": [
      "iteration 2 normdiff 196.515533.\n"
     ]
    },
    {
     "data": {
      "application/vnd.jupyter.widget-view+json": {
       "model_id": "2cda28b9472042aa9190f21a867d1caa",
       "version_major": 2,
       "version_minor": 0
      },
      "text/plain": [
       "Canvas(toolbar=Toolbar(toolitems=[('Home', 'Reset original view', 'home', 'home'), ('Back', 'Back to previous …"
      ]
     },
     "metadata": {},
     "output_type": "display_data"
    },
    {
     "name": "stdout",
     "output_type": "stream",
     "text": [
      "iteration 3 normdiff 155.828760.\n"
     ]
    },
    {
     "data": {
      "application/vnd.jupyter.widget-view+json": {
       "model_id": "fa28c39c6012461b87fa7f924f2b4628",
       "version_major": 2,
       "version_minor": 0
      },
      "text/plain": [
       "Canvas(toolbar=Toolbar(toolitems=[('Home', 'Reset original view', 'home', 'home'), ('Back', 'Back to previous …"
      ]
     },
     "metadata": {},
     "output_type": "display_data"
    },
    {
     "name": "stdout",
     "output_type": "stream",
     "text": [
      "iteration 4 normdiff 115.516046.\n"
     ]
    },
    {
     "data": {
      "application/vnd.jupyter.widget-view+json": {
       "model_id": "92a834a8be3f48699bffcca5e7940d89",
       "version_major": 2,
       "version_minor": 0
      },
      "text/plain": [
       "Canvas(toolbar=Toolbar(toolitems=[('Home', 'Reset original view', 'home', 'home'), ('Back', 'Back to previous …"
      ]
     },
     "metadata": {},
     "output_type": "display_data"
    },
    {
     "name": "stdout",
     "output_type": "stream",
     "text": [
      "iteration 5 normdiff 90.698880.\n"
     ]
    },
    {
     "data": {
      "application/vnd.jupyter.widget-view+json": {
       "model_id": "48a8fd48e34646dda22f5044178b8f9f",
       "version_major": 2,
       "version_minor": 0
      },
      "text/plain": [
       "Canvas(toolbar=Toolbar(toolitems=[('Home', 'Reset original view', 'home', 'home'), ('Back', 'Back to previous …"
      ]
     },
     "metadata": {},
     "output_type": "display_data"
    },
    {
     "name": "stdout",
     "output_type": "stream",
     "text": [
      "iteration 6 normdiff 70.539990.\n"
     ]
    }
   ],
   "source": [
    "# xs are the x and y coords of every pixel. used for average computing later.\n",
    "xs = np.meshgrid(np.arange(ishape[0]), np.arange(ishape[1]), indexing='ij')\n",
    "\n",
    "\n",
    "iteration = 0\n",
    "\n",
    "while True:\n",
    "    # First, loop over clusters and assign pixels to them.\n",
    "    for mi, mx in enumerate(M):\n",
    "        # mi is 1x5 of the average color and position of the cluster.\n",
    "        i, j = [int(q) for q in np.round(mx[3:5])]\n",
    "        # look over all pixels in the 2s x 2s neighborhood to see if they belong\n",
    "        # to this cluster.\n",
    "\n",
    "        # This is the double for-loop in python, exhaustive scheme.\n",
    "        # for x in range(i - s, i + s + 1):\n",
    "        #     if x < 0 or x >= ishape[0]:\n",
    "        #         continue\n",
    "        #\n",
    "        #     for y in range(j - s, j + s + 1):\n",
    "        #         if y < 0 or y >= ishape[1]:\n",
    "        #             continue\n",
    "        #\n",
    "        #         sDist = np.sqrt((x-i)**2 + (y-j)**2)\n",
    "        #         cxy = I[x,y,:]\n",
    "        #         cDist = np.sum((mx[:3]-cxy)**2)\n",
    "        #         oDist = np.sqrt(cDist + cs*(sDist/s)**2)\n",
    "        #         if oDist < D[x,y]:\n",
    "        #             D[x,y] = oDist\n",
    "        #             L[x,y] = mi\n",
    "\n",
    "        # This will be the numpy approach--A lot faster.\n",
    "        # A bit harder to work out, but there are\n",
    "        # some simplifications. First, the spatial distance calculation is the same\n",
    "        # for the window around every cluster, since we're using the rounded i,j of mi.\n",
    "        # That's spaceDist above.\n",
    "\n",
    "        # The first key is to determine what part of the image we're sampling (around i,j)\n",
    "        xrange = xr+i # This is a matrix of the x-coordinates of the window surrounding mi\n",
    "        yrange = yr+j\n",
    "\n",
    "        # Now cut out the out of range parts of the grid.\n",
    "        valid = np.logical_and(np.logical_and(xrange >= 0, xrange < ishape[0]),\n",
    "                               np.logical_and(yrange >= 0, yrange < ishape[1]))\n",
    "        # So now for example I[xrange[valid], yrange[valid], :] are all the valid pixels\n",
    "        # in the window. To set a piece of an image correctly one might say:\n",
    "        # bb = np.zeros(list(valid.shape) + [3])\n",
    "        # bb[valid,:] = I[xrange[valid], yrange[valid],:]\n",
    "\n",
    "        # Here we're computing the color distance to the centroid of every valid pixel in the\n",
    "        # window.\n",
    "        colDist = cdist(I[xrange[valid], yrange[valid],:],\n",
    "                        np.expand_dims(mx[:3], axis=1).T, metric='euclidean').squeeze()\n",
    "        # sDist need not be computed each round, as it is constant for any given center and the window size.\n",
    "        oDist = np.sqrt(colDist**2 + cs * (spaceDist[valid] / s) ** 2)\n",
    "\n",
    "        #Find out which pixels in the window should have their label changed.\n",
    "        whichToSwitch = np.zeros(valid.shape).astype(bool)\n",
    "        whichToSwitch[valid] = oDist < D[xrange[valid], yrange[valid]]\n",
    "\n",
    "        #Switch those pixels up:\n",
    "        D[xrange[whichToSwitch], yrange[whichToSwitch]] = oDist[whichToSwitch[valid]]\n",
    "        L[xrange[whichToSwitch], yrange[whichToSwitch]] = mi\n",
    "\n",
    "\n",
    "\n",
    "        # print('looped over mi %d' % mi)\n",
    "\n",
    "\n",
    "    # Then, recompute clusters.\n",
    "    for mi in range(len(M)):\n",
    "        M[mi, :3] = np.mean(I[L==mi, :], axis=0)\n",
    "        M[mi, 3] = np.mean(xs[0][L==mi])\n",
    "        M[mi, 4] = np.mean(xs[1][L==mi])\n",
    "        \n",
    "    # Clean up the label image:\n",
    "    ndimage.generic_filter(L, function=myfunc, size=5, output=L, mode='reflect')\n",
    "\n",
    "    # IR = np.zeros(I.shape)\n",
    "    # for mi in range(len(M)):\n",
    "    #     IR[L == mi, :] = M[mi,:3]\n",
    "    IR = M[L.astype(int), :3]\n",
    "\n",
    "    theBorders = ndimage.generic_filter(L, function=onEdge,\n",
    "                                        size=3, mode='reflect').astype(bool)\n",
    "    IRwB = IR.copy()\n",
    "    IRwB[theBorders, :] = 255\n",
    "\n",
    "    f, ax = plt.subplots(1, 3, figsize=(8, 3), sharex=True, sharey=True)\n",
    "    ax[0].imshow(I / 255)\n",
    "    ax[0].set_title('Original Image')\n",
    "    ax[1].imshow(IR / 255)\n",
    "    ax[1].set_title('%d Superpixels after %d Iter' % (SUPERPIXELS, iteration))\n",
    "    ax[2].imshow(IRwB / 255)\n",
    "    ax[2].set_title('With border highlights')\n",
    "\n",
    "    plt.tight_layout()\n",
    "\n",
    "    # Then, test for convergence.\n",
    "    iteration += 1\n",
    "    if convergedYet() or iteration >= MAXITER:\n",
    "        break\n",
    "    Mprev = M.copy() # If we didn't break, then readjust Mprev\n",
    "\n",
    "\n"
   ]
  },
  {
   "cell_type": "code",
   "execution_count": 16,
   "metadata": {},
   "outputs": [
    {
     "data": {
      "text/plain": [
       "\"\\n# Clean up the label image:\\nndimage.generic_filter(L, function=myfunc, size=5, output=L, mode='reflect')\\n\\n# IR = np.zeros(I.shape)\\n# for mi in range(len(M)):\\n#     IR[L == mi, :] = M[mi,:3]\\nIR = M[L.astype(int), :3]\\n\\n\\n\\n\\ntheBorders = ndimage.generic_filter(L, function=onEdge,\\n                                    size=3, mode='reflect').astype(bool)\\nIRwB = IR.copy()\\nIRwB[theBorders, :] = 255\\n\\n\\n\\nf, ax = plt.subplots(1, 3, figsize=(8, 3), sharex=True, sharey=True)\\nax[0].imshow(I / 255)\\nax[0].set_title('Original Image')\\nax[1].imshow(IR / 255)\\nax[1].set_title('%d Superpixels after %d Iter' % (SUPERPIXELS, iteration))\\nax[2].imshow(IRwB / 255)\\nax[2].set_title('With border highlights')\\n\\n\\nplt.tight_layout()\\n\""
      ]
     },
     "execution_count": 16,
     "metadata": {},
     "output_type": "execute_result"
    }
   ],
   "source": [
    "'''\n",
    "# Clean up the label image:\n",
    "ndimage.generic_filter(L, function=myfunc, size=5, output=L, mode='reflect')\n",
    "\n",
    "# IR = np.zeros(I.shape)\n",
    "# for mi in range(len(M)):\n",
    "#     IR[L == mi, :] = M[mi,:3]\n",
    "IR = M[L.astype(int), :3]\n",
    "\n",
    "\n",
    "\n",
    "\n",
    "theBorders = ndimage.generic_filter(L, function=onEdge,\n",
    "                                    size=3, mode='reflect').astype(bool)\n",
    "IRwB = IR.copy()\n",
    "IRwB[theBorders, :] = 255\n",
    "\n",
    "\n",
    "\n",
    "f, ax = plt.subplots(1, 3, figsize=(8, 3), sharex=True, sharey=True)\n",
    "ax[0].imshow(I / 255)\n",
    "ax[0].set_title('Original Image')\n",
    "ax[1].imshow(IR / 255)\n",
    "ax[1].set_title('%d Superpixels after %d Iter' % (SUPERPIXELS, iteration))\n",
    "ax[2].imshow(IRwB / 255)\n",
    "ax[2].set_title('With border highlights')\n",
    "\n",
    "\n",
    "plt.tight_layout()\n",
    "'''"
   ]
  },
  {
   "cell_type": "code",
   "execution_count": null,
   "metadata": {},
   "outputs": [],
   "source": []
  }
 ],
 "metadata": {
  "kernelspec": {
   "display_name": "Python 3",
   "language": "python",
   "name": "python3"
  },
  "language_info": {
   "codemirror_mode": {
    "name": "ipython",
    "version": 3
   },
   "file_extension": ".py",
   "mimetype": "text/x-python",
   "name": "python",
   "nbconvert_exporter": "python",
   "pygments_lexer": "ipython3",
   "version": "3.7.10"
  }
 },
 "nbformat": 4,
 "nbformat_minor": 4
}

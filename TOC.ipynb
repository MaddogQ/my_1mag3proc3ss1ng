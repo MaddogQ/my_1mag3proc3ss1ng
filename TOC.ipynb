{
 "cells": [
  {
   "cell_type": "markdown",
   "metadata": {},
   "source": [
    "# Digital Image Processing in Python\n",
    "### [Dr. Joshua Stough](http://joshuastough.com/), 2020\n",
    "\n",
    "<p style=\"text-align:center;\">\n",
    "    <a href=\"https://creativecommons.org/licenses/by-sa/4.0/\">\n",
    "        <img src=\"cc-license.png\" width=\"150\">\n",
    "    </a>\n",
    "</p>\n",
    "    "
   ]
  },
  {
   "cell_type": "markdown",
   "metadata": {},
   "source": [
    "&nbsp;\n",
    "# Topics\n",
    "\n",
    "1. [Review of Data Structures in Python](https://joshuastough.github.io/pythonstructures/)  \n",
    "[![Open In Colab](https://colab.research.google.com/assets/colab-badge.svg)](https://colab.research.google.com/github/joshuastough/pythonstructures/blob/main/TOC.ipynb)\n",
    "1. [Numpy Tutorial](./NumpyAndVisualization/numpy_tutorial.ipynb)\n",
    "1. "
   ]
  },
  {
   "cell_type": "code",
   "execution_count": null,
   "metadata": {},
   "outputs": [],
   "source": []
  }
 ],
 "metadata": {
  "kernelspec": {
   "display_name": "Python 3",
   "language": "python",
   "name": "python3"
  },
  "language_info": {
   "codemirror_mode": {
    "name": "ipython",
    "version": 3
   },
   "file_extension": ".py",
   "mimetype": "text/x-python",
   "name": "python",
   "nbconvert_exporter": "python",
   "pygments_lexer": "ipython3",
   "version": "3.7.3"
  }
 },
 "nbformat": 4,
 "nbformat_minor": 4
}

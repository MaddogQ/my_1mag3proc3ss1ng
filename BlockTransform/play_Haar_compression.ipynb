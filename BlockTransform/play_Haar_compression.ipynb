{
 "cells": [
  {
   "cell_type": "markdown",
   "metadata": {},
   "source": [
    "# Haar Compression Activity\n",
    "stough 202-\n",
    "\n",
    "DIP 6, 8.9\n",
    "\n",
    "In this activity you're going to use the Haar wavelet block transform and lossy compression in two different contexts\n",
    "\n",
    "- A single $4x4$ single-channel \"image\" block with fairly high contrast.\n",
    "- A larger color image with $8x8$ blocks.\n",
    "\n",
    "In each case we're going to \n",
    "\n",
    "- Transform: Turn a block of image pixels into a block of Haar wavelet coefficients. \n",
    "- Compress: We're going to effectively compress by zeroing out insigficant/small coefficients.\n",
    "- Reconstruct: Take the \"compressed\" coefficent block and reconstruct the block of image pixels, with some loss.\n",
    "\n",
    "Recall from [`view_basis_blocks`](./view_basis_blocks.ipynb) that the Haar $4x4$ transform matrix is like so:\n",
    "\n",
    "\\begin{equation*}\n",
    "\\mathbf{H_{Haar}} =  \\frac{1}{2}\\begin{vmatrix}\n",
    "1 & 1 & 1 & 1\\\\\n",
    "1 & 1 & -1 & -1 \\\\\n",
    "{\\sqrt 2} & -{\\sqrt 2} & 0 & 0 \\\\\n",
    "0 & 0 & {\\sqrt 2} & -{\\sqrt 2}\n",
    "\\end{vmatrix}\n",
    "\\end{equation*}\n",
    "\n",
    "To transform a block of pixels $\\mathbf{B}$ into a block of coefficients:\n",
    "\n",
    "\\begin{equation*}\n",
    "\\mathbf{T} = \\mathbf{H}\\times\\mathbf{B}\\times\\mathbf{H}^T\n",
    "\\end{equation*}\n",
    "\n",
    "where $\\mathbf{H}^T$ is the transpose. Through the above we basically replace the set of independent pixels with the set of coefficients with respect to the Haar basis patterns, as we'll see with `vis_blocks`. Once we have $\\mathbf{T}$, we can quantize it to the degree that we wish, zeroing out small coefficients, potentially replacing large coefficients with nearby approximations on a standard grade (e.g. replace anything in $[236,276]$ with $256$). \n",
    "\n",
    "To reconstruct the original $\\mathbf{B}$, we can simply\n",
    "\n",
    "\\begin{equation*}\n",
    "\\mathbf{B} = \\mathbf{H}^T\\times\\mathbf{T}\\times\\mathbf{H}\n",
    "\\end{equation*}"
   ]
  },
  {
   "cell_type": "markdown",
   "metadata": {},
   "source": [
    "## Imports\n",
    "We're going to use [`wavelet_utils`](../dip_utils/wavelet_utils.py)."
   ]
  },
  {
   "cell_type": "code",
   "execution_count": 21,
   "metadata": {},
   "outputs": [],
   "source": [
    "%matplotlib widget\n",
    "import matplotlib.pyplot as plt\n",
    "import numpy as np\n",
    "\n",
    "# For importing from alternative directory sources\n",
    "import sys  \n",
    "sys.path.insert(0, '../dip_utils')\n",
    "\n",
    "from matrix_utils import (arr_info,\n",
    "                          make_linmap)\n",
    "from vis_utils import (vis_rgb_cube,\n",
    "                       vis_hists,\n",
    "                       vis_pair,\n",
    "                       vis_surface)\n",
    "\n",
    "from wavelet_utils import (make_haar_matrix,\n",
    "                           make_random_basis,\n",
    "                           make_klt_basis,\n",
    "                           make_dct_matrix,\n",
    "                           make_standard_matrix,\n",
    "                           vis_blocks)\n",
    "\n",
    "from skimage.util import view_as_blocks\n",
    "from skimage.util import montage\n",
    "from skimage.transform import resize, rescale"
   ]
  },
  {
   "cell_type": "markdown",
   "metadata": {},
   "source": [
    "## 1. $4\\times4$ Haar Wavelet Compression\n",
    "Use `make_haar_matrix` and `vis_blocks` to see the 16 Haar patterns for the $\\mathbf{H_{Haar}}$ matrix"
   ]
  },
  {
   "cell_type": "code",
   "execution_count": 22,
   "metadata": {},
   "outputs": [
    {
     "data": {
      "application/vnd.jupyter.widget-view+json": {
       "model_id": "ee248d6a7cb249d6aba87557d5ad5307",
       "version_major": 2,
       "version_minor": 0
      },
      "text/plain": [
       "Canvas(toolbar=Toolbar(toolitems=[('Home', 'Reset original view', 'home', 'home'), ('Back', 'Back to previous …"
      ]
     },
     "metadata": {},
     "output_type": "display_data"
    }
   ],
   "source": [
    "H = make_haar_matrix(4)\n",
    "vis_blocks(H)"
   ]
  },
  {
   "cell_type": "markdown",
   "metadata": {},
   "source": [
    "### Transform a $4\\times4$ block of pixels.\n",
    "We'll define the block of pixels in question. Then you transform it into the coefficient block $\\mathbf{T}$. See [`np.matmul`](https://numpy.org/doc/stable/reference/generated/numpy.matmul.html) to compute $\\mathbf{H}\\times\\mathbf{B}\\times\\mathbf{H}^T$."
   ]
  },
  {
   "cell_type": "code",
   "execution_count": 23,
   "metadata": {},
   "outputs": [
    {
     "data": {
      "application/vnd.jupyter.widget-view+json": {
       "model_id": "c17428a2cc8145ddb747841cd9a8b75d",
       "version_major": 2,
       "version_minor": 0
      },
      "text/plain": [
       "Canvas(toolbar=Toolbar(toolitems=[('Home', 'Reset original view', 'home', 'home'), ('Back', 'Back to previous …"
      ]
     },
     "metadata": {},
     "output_type": "display_data"
    },
    {
     "data": {
      "text/plain": [
       "<matplotlib.image.AxesImage at 0x254f1eec848>"
      ]
     },
     "execution_count": 23,
     "metadata": {},
     "output_type": "execute_result"
    }
   ],
   "source": [
    "B = np.array([[0,1,1,1],\n",
    "              [0,1,0,0],\n",
    "              [0,1,1,1],\n",
    "              [0,1,0,0]])\n",
    "\n",
    "plt.figure(figsize=(4,4))\n",
    "plt.imshow(B, cmap='gray')"
   ]
  },
  {
   "cell_type": "code",
   "execution_count": 24,
   "metadata": {},
   "outputs": [],
   "source": [
    "T = np.matmul(H, np.matmul(B, H.T))"
   ]
  },
  {
   "cell_type": "code",
   "execution_count": 25,
   "metadata": {},
   "outputs": [
    {
     "data": {
      "application/vnd.jupyter.widget-view+json": {
       "model_id": "63dc78d67f3d4f998561ce33d3ccb059",
       "version_major": 2,
       "version_minor": 0
      },
      "text/plain": [
       "Canvas(toolbar=Toolbar(toolitems=[('Home', 'Reset original view', 'home', 'home'), ('Back', 'Back to previous …"
      ]
     },
     "metadata": {},
     "output_type": "display_data"
    },
    {
     "data": {
      "text/plain": [
       "<matplotlib.image.AxesImage at 0x254f1f2f288>"
      ]
     },
     "execution_count": 25,
     "metadata": {},
     "output_type": "execute_result"
    }
   ],
   "source": [
    "plt.figure(figsize=(4,4))\n",
    "plt.imshow(T, cmap='gray')"
   ]
  },
  {
   "cell_type": "markdown",
   "metadata": {},
   "source": [
    "### A. Viewing the transform coefficients in the matrix $\\mathbf{T}$, what are the row and column coords for the two largest coefficients (in absolute value)?"
   ]
  },
  {
   "cell_type": "markdown",
   "metadata": {},
   "source": [
    "- They are at (0, 0) and (0, 2)."
   ]
  },
  {
   "cell_type": "markdown",
   "metadata": {},
   "source": [
    "### B. Show the two basis blocks corresponding to those two coefficients."
   ]
  },
  {
   "cell_type": "code",
   "execution_count": 26,
   "metadata": {},
   "outputs": [
    {
     "data": {
      "application/vnd.jupyter.widget-view+json": {
       "model_id": "05f7cae82b27486581c777df4f4dfb8d",
       "version_major": 2,
       "version_minor": 0
      },
      "text/plain": [
       "Canvas(toolbar=Toolbar(toolitems=[('Home', 'Reset original view', 'home', 'home'), ('Back', 'Back to previous …"
      ]
     },
     "metadata": {},
     "output_type": "display_data"
    },
    {
     "data": {
      "text/plain": [
       "<matplotlib.image.AxesImage at 0x254f1fbcf88>"
      ]
     },
     "execution_count": 26,
     "metadata": {},
     "output_type": "execute_result"
    }
   ],
   "source": [
    "H00 = np.outer(H[0, :], H[0, :])\n",
    "H02 = np.outer(H[0, :], H[2, :])\n",
    "_, ax = plt.subplots(1, 2, figsize = (4,2))\n",
    "ax[0].title.set_text('basis block (0,0)')\n",
    "ax[1].title.set_text('basis block at (0,2)')\n",
    "ax[0].imshow(H00, cmap='gray')\n",
    "ax[1].imshow(H02, cmap='gray')"
   ]
  },
  {
   "cell_type": "markdown",
   "metadata": {},
   "source": [
    "### C. Show and explain as explicitly as you can how the two coefficients are what they are."
   ]
  },
  {
   "cell_type": "markdown",
   "metadata": {},
   "source": [
    "- The basis block corresponding to the first coefficient is a block that takes average over the image. The first coefficient of 2 means that the average intensity of the original image is positive. <br>\n",
    "The basis block corresponding to the second coefficient is a block that finds vertical edges in left half of the image. The second coefficient of -1.41 means that a vertical edge is found in the original image, but in the reverse direction of the edge in the basis block."
   ]
  },
  {
   "cell_type": "markdown",
   "metadata": {},
   "source": [
    "### D. Show the reconstruction of the image $\\mathbf{B}$ using only those basis blocks/coefficients. \n",
    "Is this reconstruction trending in the right direction? Explain"
   ]
  },
  {
   "cell_type": "code",
   "execution_count": 27,
   "metadata": {},
   "outputs": [
    {
     "data": {
      "application/vnd.jupyter.widget-view+json": {
       "model_id": "8ec6ec3349d6489b9e331bdac8553986",
       "version_major": 2,
       "version_minor": 0
      },
      "text/plain": [
       "Canvas(toolbar=Toolbar(toolitems=[('Home', 'Reset original view', 'home', 'home'), ('Back', 'Back to previous …"
      ]
     },
     "metadata": {},
     "output_type": "display_data"
    },
    {
     "data": {
      "text/plain": [
       "<matplotlib.image.AxesImage at 0x254f1ff8dc8>"
      ]
     },
     "execution_count": 27,
     "metadata": {},
     "output_type": "execute_result"
    }
   ],
   "source": [
    "T00 = np.matmul(H00.T, T[0, 0]*H00) + np.matmul(H02.T, T[0, 2]*H02)\n",
    "plt.figure(figsize=(4,4))\n",
    "plt.imshow(T00, cmap='gray')"
   ]
  },
  {
   "cell_type": "markdown",
   "metadata": {},
   "source": [
    "Yes. $\\mathbf{B}=\\mathbf{H}^T\\times\\mathbf{T}\\times\\mathbf{H}$"
   ]
  },
  {
   "cell_type": "markdown",
   "metadata": {},
   "source": [
    "## 2. Larger Image Block Transform and Reconstruction.\n",
    "Use the code in [`block_viewing_demo`](./block_viewing_demo.ipynb) and [`basis_decomp_64pix.ipynb`](./basis_decomp_64pix.ipynb) to perform a similar transform/compress/reconstruct sequence on a larger image of your choice. \n",
    "\n",
    "- Use $8\\times8$ blocks.\n",
    "- Use [`resize`](https://scikit-image.org/docs/dev/api/skimage.transform.html?highlight=resize#skimage.transform.resize) on the image you choose to ensure that $8$ evenly divides it in height and width. This is for convenience: compression schemes have other mechanisms to deal with odd-shaped images, which we will ignore here.\n",
    "- Perform reconstructions using the largest $[1,2,4,8,16]$ coefficients in absolute value per block. Note that keeping $16$ coefficients is equivalent to $\\sim 3$x compression. \n",
    "- For at least the reconstructions using $[2,4]$, use `vis_pair` and zoom into an area to observe the effectiveness of the reconstruction on such limit basis (32x, 16x compression).  \n",
    "\n",
    "You can **export this notebook** as a PDF to submit this work."
   ]
  },
  {
   "cell_type": "code",
   "execution_count": null,
   "metadata": {},
   "outputs": [],
   "source": [
    "def largest_indexes():\n",
    "    \n",
    "    return x, y"
   ]
  },
  {
   "cell_type": "code",
   "execution_count": 28,
   "metadata": {},
   "outputs": [],
   "source": [
    "def reconstruct(n, H, out_shape, block_view):\n",
    "    mod_block_view = np.zeros_like(block_view)\n",
    "    for i, block in enumerate(block_view):\n",
    "        # The transform image\n",
    "        CT = np.zeros(block.shape)\n",
    "        block_mod = np.zeros_like(block).astype('float64')\n",
    "        for chan in range(3):\n",
    "            CT[..., chan] = np.matmul(H, np.matmul(block[..., chan], H.T))\n",
    "            x, y = largest_indexes(CT[..., chan], n)\n",
    "            for j, k in zip(x, y):\n",
    "                new = CT[j, k, chan] * np.outer(H[j, :], H[k, :])\n",
    "                block_mod[..., chan] += new\n",
    "        block_mod = block_mod.copy().clip(0, 255)\n",
    "        mod_block_view[i] = block_view\n",
    "    mod_block_grid = montage(mod_block_view, grid_shape=outshape, multichannel=True, padding_width=1, fill=[1,1,1])\n",
    "    return mod_block_grid"
   ]
  },
  {
   "cell_type": "code",
   "execution_count": 35,
   "metadata": {},
   "outputs": [
    {
     "data": {
      "text/plain": [
       "((150, 150, 1, 8, 8, 3), dtype('float32'), 0.043137256, 0.94509804)"
      ]
     },
     "execution_count": 35,
     "metadata": {},
     "output_type": "execute_result"
    }
   ],
   "source": [
    "I = plt.imread('../dip_pics/underwaterTree.png') # 1200x1200 pixels\n",
    "I = I[...,:3] # cut out the alpha channel\n",
    "H = make_haar_matrix(8)\n",
    "block_shape = (8,8,3)\n",
    "view = view_as_blocks(I, block_shape)\n",
    "arr_info(view)"
   ]
  },
  {
   "cell_type": "code",
   "execution_count": 36,
   "metadata": {},
   "outputs": [
    {
     "data": {
      "text/plain": [
       "((22500, 8, 8, 3), dtype('float32'), 0.043137256, 0.94509804)"
      ]
     },
     "execution_count": 36,
     "metadata": {},
     "output_type": "execute_result"
    }
   ],
   "source": [
    "block_view = np.reshape(view, [view.shape[0]*view.shape[1]] + list(block_shape))\n",
    "arr_info(block_view)"
   ]
  },
  {
   "cell_type": "code",
   "execution_count": null,
   "metadata": {},
   "outputs": [],
   "source": [
    "reconstruct(4, H, block_shape, block_view)"
   ]
  }
 ],
 "metadata": {
  "kernelspec": {
   "display_name": "Python 3",
   "language": "python",
   "name": "python3"
  },
  "language_info": {
   "codemirror_mode": {
    "name": "ipython",
    "version": 3
   },
   "file_extension": ".py",
   "mimetype": "text/x-python",
   "name": "python",
   "nbconvert_exporter": "python",
   "pygments_lexer": "ipython3",
   "version": "3.7.10"
  }
 },
 "nbformat": 4,
 "nbformat_minor": 4
}

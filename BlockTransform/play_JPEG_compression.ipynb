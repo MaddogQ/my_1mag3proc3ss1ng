{
 "cells": [
  {
   "cell_type": "markdown",
   "metadata": {},
   "source": [
    "# JPEG Compression with Zonal Coding Quantization\n",
    "stough 202-\n",
    "DIP 8.9\n",
    "\n",
    "In this activity we're going to synthesize a bit of the [JPEG](https://en.wikipedia.org/wiki/JPEG) encoding standard, specifically block transform encoding and zonal coding quantization. We will look to understand how the quantization affects the image reconstruction.\n",
    "\n",
    "Read up in DIP 8.9 or [elsewhere](https://en.wikipedia.org/wiki/JPEG#JPEG_codec_example) if needed."
   ]
  },
  {
   "cell_type": "markdown",
   "metadata": {},
   "source": [
    "## Imports\n",
    "We're going to take advantage of both [`view_as_blocks`](https://scikit-image.org/docs/dev/api/skimage.util.html?highlight=view_as_blocks#skimage.util.view_as_blocks) and the [Discrete Cosine transform](https://en.wikipedia.org/wiki/Discrete_cosine_transform) for this."
   ]
  },
  {
   "cell_type": "code",
   "execution_count": 1,
   "metadata": {},
   "outputs": [],
   "source": [
    "%matplotlib widget\n",
    "import matplotlib.pyplot as plt\n",
    "import numpy as np\n",
    "\n",
    "# For importing from alternative directory sources\n",
    "import sys  \n",
    "sys.path.insert(0, '../dip_utils')\n",
    "\n",
    "from matrix_utils import (arr_info,\n",
    "                          make_linmap)\n",
    "from vis_utils import (vis_rgb_cube,\n",
    "                       vis_hists,\n",
    "                       vis_pair,\n",
    "                       vis_surface)\n",
    "\n",
    "from wavelet_utils import (make_haar_matrix,\n",
    "                           make_random_basis,\n",
    "                           make_klt_basis,\n",
    "                           make_dct_matrix,\n",
    "                           make_standard_matrix,\n",
    "                           vis_blocks)\n",
    "\n",
    "from skimage.util import view_as_blocks\n",
    "from skimage.util import montage\n",
    "from skimage.transform import resize, rescale"
   ]
  },
  {
   "cell_type": "markdown",
   "metadata": {},
   "source": [
    "## JPEG Compression\n",
    "Basically\n",
    "- Take the image in $[0,255]$ form and subtract 128. This is to center around 0. Make sure you change the `dtype` when you do this, or else you won't be able to represent negatives.\n",
    "- Transform each 8x8 block using the DCT transform matrix (see `make_dct_matrix`)\n",
    "- Quantize the transform coefficients according the [Q matrix](https://en.wikipedia.org/wiki/JPEG#Quantization). This is, divide the block coefficients and store the result in integer form.\n",
    "- These quantized transform blocks represent how the compressed image would be stored or transmitted. We won't go further than just having this representation, as the point of the exercise is to understand how this quantization affects the reconstruction. \n",
    "- Reconstruction: for each transform block, remultiply according to the Q matrix and then invert the transform process, to reconstruct the as-though-compressed image block.\n",
    "\n",
    "We'll define the Q matrix for ease of use."
   ]
  },
  {
   "cell_type": "code",
   "execution_count": 2,
   "metadata": {},
   "outputs": [],
   "source": [
    "Q = np.array([[16, 11, 10, 16, 24, 40, 51, 61],\n",
    "              [12, 12, 14, 19, 26, 58, 60, 55],\n",
    "              [14, 13, 16, 24, 40, 57, 69, 56],\n",
    "              [14, 17, 22, 29, 51, 87, 80, 62],\n",
    "              [18, 22, 37, 56, 68, 109, 103, 77],\n",
    "              [24, 35, 55, 64, 81, 104, 113, 92],\n",
    "              [49, 64, 78, 87, 103, 121, 120, 101],\n",
    "              [72, 92, 95, 98, 112, 100, 103, 99]])"
   ]
  },
  {
   "cell_type": "code",
   "execution_count": 3,
   "metadata": {},
   "outputs": [
    {
     "data": {
      "application/vnd.jupyter.widget-view+json": {
       "model_id": "a5584cc413694966a18956a0265c49fb",
       "version_major": 2,
       "version_minor": 0
      },
      "text/plain": [
       "Canvas(toolbar=Toolbar(toolitems=[('Home', 'Reset original view', 'home', 'home'), ('Back', 'Back to previous …"
      ]
     },
     "metadata": {},
     "output_type": "display_data"
    }
   ],
   "source": [
    "I = plt.imread('../dip_pics/cat_small.png')\n",
    "I = I[...,:3]    # alpha\n",
    "vis_hists(I)"
   ]
  },
  {
   "cell_type": "code",
   "execution_count": 4,
   "metadata": {},
   "outputs": [
    {
     "data": {
      "text/plain": [
       "((512, 512, 3), dtype('float32'), -128.0, 124.0)"
      ]
     },
     "execution_count": 4,
     "metadata": {},
     "output_type": "execute_result"
    }
   ],
   "source": [
    "I = 255*I\n",
    "I = I - 128\n",
    "arr_info(I)"
   ]
  },
  {
   "cell_type": "code",
   "execution_count": 5,
   "metadata": {},
   "outputs": [
    {
     "data": {
      "text/plain": [
       "((64, 64, 1, 8, 8, 3), dtype('float32'), -128.0, 124.0)"
      ]
     },
     "execution_count": 5,
     "metadata": {},
     "output_type": "execute_result"
    }
   ],
   "source": [
    "block_shape = (8,8,3)\n",
    "\n",
    "view = view_as_blocks(I, block_shape)\n",
    "arr_info(view)"
   ]
  },
  {
   "cell_type": "code",
   "execution_count": 6,
   "metadata": {},
   "outputs": [
    {
     "data": {
      "text/plain": [
       "((4096, 8, 8, 3), dtype('float32'), -128.0, 124.0)"
      ]
     },
     "execution_count": 6,
     "metadata": {},
     "output_type": "execute_result"
    }
   ],
   "source": [
    "block_view = np.reshape(view, [view.shape[0]*view.shape[1]] + list(block_shape))\n",
    "arr_info(block_view)"
   ]
  },
  {
   "cell_type": "code",
   "execution_count": 7,
   "metadata": {},
   "outputs": [
    {
     "data": {
      "application/vnd.jupyter.widget-view+json": {
       "model_id": "5574b8fc9099462094d0c4ddac2aa8b0",
       "version_major": 2,
       "version_minor": 0
      },
      "text/plain": [
       "Canvas(toolbar=Toolbar(toolitems=[('Home', 'Reset original view', 'home', 'home'), ('Back', 'Back to previous …"
      ]
     },
     "metadata": {},
     "output_type": "display_data"
    },
    {
     "data": {
      "text/plain": [
       "<matplotlib.image.AxesImage at 0x2b1112cf148>"
      ]
     },
     "execution_count": 7,
     "metadata": {},
     "output_type": "execute_result"
    }
   ],
   "source": [
    "plt.figure()\n",
    "plt.imshow(block_view[64, ..., 0], cmap='gray')"
   ]
  },
  {
   "cell_type": "markdown",
   "metadata": {},
   "source": [
    "## Forward Transformation"
   ]
  },
  {
   "cell_type": "code",
   "execution_count": 8,
   "metadata": {},
   "outputs": [
    {
     "data": {
      "application/vnd.jupyter.widget-view+json": {
       "model_id": "926a40af90d7419b9742d80743d580a9",
       "version_major": 2,
       "version_minor": 0
      },
      "text/plain": [
       "Canvas(toolbar=Toolbar(toolitems=[('Home', 'Reset original view', 'home', 'home'), ('Back', 'Back to previous …"
      ]
     },
     "metadata": {},
     "output_type": "display_data"
    }
   ],
   "source": [
    "H = make_dct_matrix(8)\n",
    "vis_blocks(H)"
   ]
  },
  {
   "cell_type": "code",
   "execution_count": 9,
   "metadata": {},
   "outputs": [],
   "source": [
    "BT = np.zeros_like(block_view)\n",
    "\n",
    "for i, block in enumerate(block_view):\n",
    "    CT = np.zeros_like(block)\n",
    "    \n",
    "    for chan in range(3):\n",
    "        CT[..., chan] = np.matmul(H, np.matmul(block[..., chan], H.T))\n",
    "        \n",
    "    BT[i] = CT"
   ]
  },
  {
   "cell_type": "code",
   "execution_count": 10,
   "metadata": {},
   "outputs": [
    {
     "data": {
      "application/vnd.jupyter.widget-view+json": {
       "model_id": "f5049fb27343407f9c850490c06a51c3",
       "version_major": 2,
       "version_minor": 0
      },
      "text/plain": [
       "Canvas(toolbar=Toolbar(toolitems=[('Home', 'Reset original view', 'home', 'home'), ('Back', 'Back to previous …"
      ]
     },
     "metadata": {},
     "output_type": "display_data"
    },
    {
     "data": {
      "text/plain": [
       "<matplotlib.image.AxesImage at 0x2b11470be08>"
      ]
     },
     "execution_count": 10,
     "metadata": {},
     "output_type": "execute_result"
    }
   ],
   "source": [
    "plt.figure()\n",
    "plt.imshow(BT[64, ..., 0])"
   ]
  },
  {
   "cell_type": "markdown",
   "metadata": {},
   "source": [
    "## Quantization Stage"
   ]
  },
  {
   "cell_type": "code",
   "execution_count": 11,
   "metadata": {},
   "outputs": [],
   "source": [
    "QTs = np.zeros_like(BT)\n",
    "\n",
    "for i, CT in enumerate(BT):\n",
    "    temp = np.zeros_like(CT)\n",
    "    for chan in range(3):\n",
    "        temp[..., chan] = np.int64(CT[..., chan]/Q)\n",
    "        temp[..., chan] = np.float32(Q*temp[..., chan])\n",
    "    QTs[i] = temp"
   ]
  },
  {
   "cell_type": "code",
   "execution_count": 12,
   "metadata": {},
   "outputs": [
    {
     "data": {
      "text/plain": [
       "((4096, 8, 8, 3), dtype('float32'), -1008.0, 976.0)"
      ]
     },
     "execution_count": 12,
     "metadata": {},
     "output_type": "execute_result"
    }
   ],
   "source": [
    "arr_info(QTs)"
   ]
  },
  {
   "cell_type": "code",
   "execution_count": 13,
   "metadata": {},
   "outputs": [
    {
     "data": {
      "application/vnd.jupyter.widget-view+json": {
       "model_id": "2f1305fbd707499698a07af025fb8f70",
       "version_major": 2,
       "version_minor": 0
      },
      "text/plain": [
       "Canvas(toolbar=Toolbar(toolitems=[('Home', 'Reset original view', 'home', 'home'), ('Back', 'Back to previous …"
      ]
     },
     "metadata": {},
     "output_type": "display_data"
    },
    {
     "data": {
      "text/plain": [
       "<matplotlib.image.AxesImage at 0x2b1147054c8>"
      ]
     },
     "execution_count": 13,
     "metadata": {},
     "output_type": "execute_result"
    }
   ],
   "source": [
    "plt.figure()\n",
    "plt.imshow(QTs[64, ..., 0])"
   ]
  },
  {
   "cell_type": "markdown",
   "metadata": {},
   "source": [
    "## Reconstruct"
   ]
  },
  {
   "cell_type": "code",
   "execution_count": 14,
   "metadata": {},
   "outputs": [],
   "source": [
    "block_view_rec = np.zeros_like(block_view)\n",
    "\n",
    "for i, CT in enumerate(QTs):\n",
    "    BR = np.zeros_like(CT)\n",
    "    \n",
    "    for chan in range(3):\n",
    "        BR[..., chan] = np.matmul(H.T, np.matmul(CT[..., chan], H))\n",
    "        \n",
    "    block_view_rec[i] = BR"
   ]
  },
  {
   "cell_type": "code",
   "execution_count": 15,
   "metadata": {},
   "outputs": [
    {
     "data": {
      "text/plain": [
       "((512, 512, 3), dtype('float32'), -142.96017, 127.22406)"
      ]
     },
     "execution_count": 15,
     "metadata": {},
     "output_type": "execute_result"
    }
   ],
   "source": [
    "Ir = montage(block_view_rec, grid_shape=view.shape[:2], multichannel=True)\n",
    "arr_info(Ir)"
   ]
  },
  {
   "cell_type": "code",
   "execution_count": 16,
   "metadata": {},
   "outputs": [
    {
     "data": {
      "application/vnd.jupyter.widget-view+json": {
       "model_id": "2399d865b53e44db9c48c780063e2b3c",
       "version_major": 2,
       "version_minor": 0
      },
      "text/plain": [
       "Canvas(toolbar=Toolbar(toolitems=[('Home', 'Reset original view', 'home', 'home'), ('Back', 'Back to previous …"
      ]
     },
     "metadata": {},
     "output_type": "display_data"
    },
    {
     "data": {
      "text/plain": [
       "<matplotlib.image.AxesImage at 0x2b111dd80c8>"
      ]
     },
     "execution_count": 16,
     "metadata": {},
     "output_type": "execute_result"
    }
   ],
   "source": [
    "plt.figure()\n",
    "Ir_final = np.clip(Ir+128, 0, 255)/255\n",
    "plt.imshow(Ir_final)"
   ]
  },
  {
   "cell_type": "code",
   "execution_count": 17,
   "metadata": {},
   "outputs": [
    {
     "data": {
      "application/vnd.jupyter.widget-view+json": {
       "model_id": "076cca87612a430ca1de8c7c4f444123",
       "version_major": 2,
       "version_minor": 0
      },
      "text/plain": [
       "Canvas(toolbar=Toolbar(toolitems=[('Home', 'Reset original view', 'home', 'home'), ('Back', 'Back to previous …"
      ]
     },
     "metadata": {},
     "output_type": "display_data"
    }
   ],
   "source": [
    "vis_pair((I+128)/255, Ir_final)"
   ]
  },
  {
   "cell_type": "markdown",
   "metadata": {},
   "source": [
    "## Exercise: Interactive Quantization Demo\n",
    "Put together an interactive demo that shows the original image, its current reconstruction, and a view of the currently quantized transform coefficients. This demo should then interact with a `FloatSlider` that affects the multiple applied to the Q quantization matrix. This demo would show how you could increase the compression (increasing the multiple) and what that increased compression would do to the image reconstruction."
   ]
  },
  {
   "cell_type": "code",
   "execution_count": 18,
   "metadata": {},
   "outputs": [],
   "source": [
    "from ipywidgets import VBox, HBox, FloatSlider"
   ]
  },
  {
   "cell_type": "code",
   "execution_count": 19,
   "metadata": {},
   "outputs": [],
   "source": [
    "I = plt.imread('../dip_pics/firewatcher.png')\n",
    "I = I[...,:3]    # alpha\n",
    "I = 255*I\n",
    "I = I - 128    # center at 0"
   ]
  },
  {
   "cell_type": "code",
   "execution_count": 20,
   "metadata": {},
   "outputs": [],
   "source": [
    "block_shape = (8,8,3)\n",
    "view = view_as_blocks(I, block_shape)\n",
    "block_view = np.reshape(view, [view.shape[0]*view.shape[1]] + list(block_shape))\n",
    "H = make_dct_matrix(8)"
   ]
  },
  {
   "cell_type": "code",
   "execution_count": 21,
   "metadata": {},
   "outputs": [],
   "source": [
    "def quantize(BT, factor):\n",
    "    QTs = np.zeros_like(BT)\n",
    "    for i, CT in enumerate(BT):\n",
    "        temp = np.zeros_like(CT)\n",
    "        for chan in range(3):\n",
    "            temp[..., chan] = np.int64(CT[..., chan]/(Q*factor))\n",
    "            temp[..., chan] = np.float32(Q*temp[..., chan]*factor)\n",
    "        QTs[i] = temp\n",
    "    return QTs"
   ]
  },
  {
   "cell_type": "code",
   "execution_count": 22,
   "metadata": {},
   "outputs": [],
   "source": [
    "BT = np.zeros_like(block_view)\n",
    "for i, block in enumerate(block_view):\n",
    "    CT = np.zeros_like(block)\n",
    "    for chan in range(3):\n",
    "        CT[..., chan] = np.matmul(H, np.matmul(block[..., chan], H.T))\n",
    "    BT[i] = CT\n",
    "\n",
    "QTs = quantize(BT, 1)\n",
    "block_view_rec = np.zeros_like(block_view)\n",
    "for i, CT in enumerate(QTs):\n",
    "    BR = np.zeros_like(CT)\n",
    "    for chan in range(3):\n",
    "        BR[..., chan] = np.matmul(H.T, np.matmul(CT[..., chan], H))\n",
    "    block_view_rec[i] = BR\n",
    "Ir = montage(block_view_rec, grid_shape=view.shape[:2], multichannel=True)\n",
    "plt.ioff()\n",
    "Ir_final = np.clip(Ir+128, 0, 255)/255"
   ]
  },
  {
   "cell_type": "code",
   "execution_count": 23,
   "metadata": {},
   "outputs": [],
   "source": [
    "factor = 1\n",
    "coe_slider = FloatSlider(\n",
    "    orientation='horizontal',\n",
    "    value=factor,\n",
    "    min=0.5,\n",
    "    max=15.0,\n",
    "    step=0.1,\n",
    "    description='Coefficient'\n",
    ")"
   ]
  },
  {
   "cell_type": "code",
   "execution_count": 24,
   "metadata": {},
   "outputs": [
    {
     "data": {
      "application/vnd.jupyter.widget-view+json": {
       "model_id": "b868d723ad7049468b09908bb24068ef",
       "version_major": 2,
       "version_minor": 0
      },
      "text/plain": [
       "VBox(children=(HBox(children=(FloatSlider(value=1.0, description='Coefficient', max=15.0, min=0.5),)), Canvas(…"
      ]
     },
     "metadata": {},
     "output_type": "display_data"
    }
   ],
   "source": [
    "fig_args = {'num':' ', 'frameon':True, 'sharex':True, 'sharey':True}\n",
    "fig, ax = plt.subplots(1,2, figsize=(8,3), **fig_args)\n",
    "\n",
    "adisp = ax[0].imshow((I+128)/255)\n",
    "rdisp = ax[1].imshow(Ir_final)\n",
    "\n",
    "ax[0].set_title('Original')\n",
    "rtext = ax[1].set_title(f'coefficient: {coe_slider.value:.02f}')\n",
    "\n",
    "def reconstruct_image(change):\n",
    "    global Ir_final, BT, QTs, CT, adisp, rdisp, rtext\n",
    "    QTs = quantize(BT, coe_slider.value)\n",
    "    block_view_rec = np.zeros_like(block_view)\n",
    "    for i, CT in enumerate(QTs):\n",
    "        BR = np.zeros_like(CT)\n",
    "        for chan in range(3):\n",
    "            BR[..., chan] = np.matmul(H.T, np.matmul(CT[..., chan], H))\n",
    "        block_view_rec[i] = BR\n",
    "    Ir = montage(block_view_rec, grid_shape=view.shape[:2], multichannel=True)\n",
    "    Ir_final = np.clip(Ir+128, 0, 255)/255\n",
    "    \n",
    "    rdisp.set_array(Ir_final)\n",
    "    rtext.set_text(f'coefficient: {coe_slider.value:.02f}')\n",
    "    fig.canvas.draw()\n",
    "    fig.canvas.flush_events()\n",
    "\n",
    "coe_slider.observe(reconstruct_image, names='value')\n",
    "VBox([HBox([coe_slider]), fig.canvas])"
   ]
  },
  {
   "cell_type": "code",
   "execution_count": null,
   "metadata": {},
   "outputs": [],
   "source": []
  }
 ],
 "metadata": {
  "kernelspec": {
   "display_name": "Python 3",
   "language": "python",
   "name": "python3"
  },
  "language_info": {
   "codemirror_mode": {
    "name": "ipython",
    "version": 3
   },
   "file_extension": ".py",
   "mimetype": "text/x-python",
   "name": "python",
   "nbconvert_exporter": "python",
   "pygments_lexer": "ipython3",
   "version": "3.7.10"
  }
 },
 "nbformat": 4,
 "nbformat_minor": 4
}

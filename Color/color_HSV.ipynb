{
 "cells": [
  {
   "cell_type": "markdown",
   "metadata": {},
   "source": [
    "# HSV - Hue, Saturation, Value Colorspace\n",
    "Stough, DIP\n",
    "\n",
    "- [skimage's color module](https://scikit-image.org/docs/dev/api/skimage.color.html)\n",
    "- [What is HSV?](https://en.wikipedia.org/wiki/HSL_and_HSV)\n",
    "- [Why HSV?](https://dsp.stackexchange.com/questions/2687/why-do-we-use-the-hsv-colour-space-so-often-in-vision-and-image-processing)\n",
    "\n",
    "The HSV and closely related HSL colorspaces are ways of considering 'color' that \n",
    "separate the brightness of a color from its tone and purity. This is useful because we\n",
    "as humans are highly atuned to *brightness changes* in our perception. So if the RGB space speaks\n",
    "to the mechanism by which we receive a color stimulus--activation of red, green, and \n",
    "blue-centered cones--then the HSV speaks more to how we *perceive* a color.\n",
    "\n",
    "<img src=\"https://miro.medium.com/max/1700/1*W30TLUP9avQwyyLfwu7WYA.jpeg\" style=\"width:500px;height:200px\"/> <img src=\"https://upload.wikimedia.org/wikipedia/commons/6/6b/HSL_color_solid_cylinder_saturation_gray.png\" style=\"width:250px;height:200px\"/>"
   ]
  },
  {
   "cell_type": "code",
   "execution_count": null,
   "metadata": {},
   "outputs": [],
   "source": [
    "%matplotlib widget\n",
    "import matplotlib.pyplot as plt\n",
    "import numpy as np\n",
    "import matplotlib.colors as mcolors\n",
    "import skimage.color as color\n",
    "\n",
    "# For importing from alternative directory sources\n",
    "import sys  \n",
    "sys.path.insert(0, '../dip_utils')\n",
    "\n",
    "import matrix_utils\n",
    "from vis_utils import (vis_rgb_cube,\n",
    "                       vis_hists,\n",
    "                       lab_uniform)"
   ]
  },
  {
   "cell_type": "code",
   "execution_count": null,
   "metadata": {},
   "outputs": [],
   "source": [
    "# IMAGE = 'mountainSpring.jpg'\n",
    "# IMAGE = 'peppers.png'\n",
    "IMAGE = 'blueridge.jpg'\n",
    "\n",
    "# Let's construct our own colormaps\n",
    "cm_KR = mcolors.LinearSegmentedColormap.from_list('kr', [(0,0,0), (1, 0, 0)], 256)\n",
    "cm_KG = mcolors.LinearSegmentedColormap.from_list('kg', [(0,0,0), (0, 1, 0)], 256)\n",
    "cm_KB = mcolors.LinearSegmentedColormap.from_list('kb', [(0,0,0), (0, 0, 1)], 256)"
   ]
  },
  {
   "cell_type": "code",
   "execution_count": null,
   "metadata": {},
   "outputs": [],
   "source": [
    "Irgb = plt.imread('../dip_pics/' + IMAGE)\n",
    "\n",
    "# Image of uniform random distributed color\n",
    "# Irgb = np.random.random((100,100,3))"
   ]
  },
  {
   "cell_type": "code",
   "execution_count": null,
   "metadata": {},
   "outputs": [],
   "source": [
    "f, ax = plt.subplots(3,3, figsize = (8,6), sharex=True, sharey=True)\n",
    "\n",
    "Ihsv = color.rgb2hsv(Irgb)\n",
    "\n",
    "# Row 0: just the full color image\n",
    "ax[0][1].imshow(Irgb)\n",
    "ax[0][0].set_axis_off()\n",
    "ax[0][2].set_axis_off()\n",
    "\n",
    "# Row 1: r g b channels\n",
    "for i in range(3):\n",
    "    ax[1,i].imshow(Irgb[...,i], cmap=[cm_KR, cm_KG, cm_KB][i])\n",
    "    ax[1,i].set_title(['Red', 'Green', 'Blue'][i])\n",
    "\n",
    "\n",
    "# Now to display the HSV space.\n",
    "\n",
    "cmapNameHue = 'myHue'\n",
    "colorsH = [(.7,0,0), (.5,.5,0), (0,.7,0), (0,.5,.5), (0,0,.7), (.5, 0, .5), (.7, 0, 0)]\n",
    "cmHue = mcolors.LinearSegmentedColormap.from_list(cmapNameHue, lab_uniform(colorsH), 256)\n",
    "\n",
    "\n",
    "ax[2,0].imshow(Ihsv[...,0], cmap=cmHue)\n",
    "ax[2,0].set_title('H')\n",
    "\n",
    "ax[2,1].imshow(Ihsv[...,1], cmap='gray')\n",
    "ax[2,1].set_title('S')\n",
    "\n",
    "ax[2,2].imshow(Ihsv[...,2], cmap='gray')\n",
    "ax[2,2].set_title('V')\n",
    "\n",
    "plt.tight_layout()\n",
    "f.canvas.set_window_title('RGB vs HSV')\n",
    "plt.show()"
   ]
  },
  {
   "cell_type": "code",
   "execution_count": null,
   "metadata": {},
   "outputs": [],
   "source": [
    "matrix_utils.arr_info(Ihsv)"
   ]
  },
  {
   "cell_type": "markdown",
   "metadata": {},
   "source": [
    "&nbsp;\n",
    "\n",
    "## Let's visualize in 3D\n",
    "\n",
    "Given the HSV graph above, Hue can be seen as P, and Saturation as R in polar coordinates. Value \n",
    "is the Z. Easy. So then, how to [plot in polar coords](https://matplotlib.org/3.1.0/gallery/mplot3d/surface3d_radial.html)?"
   ]
  },
  {
   "cell_type": "code",
   "execution_count": null,
   "metadata": {},
   "outputs": [],
   "source": [
    "def visHSV(I, numpoints = 5000):\n",
    "    \n",
    "    Ihsv = color.rgb2hsv(I)\n",
    "    \n",
    "    P = 2*np.pi*Ihsv[...,0].ravel()\n",
    "    R = Ihsv[...,1].ravel()\n",
    "    Z = Ihsv[...,2].ravel()\n",
    "    \n",
    "    # Now transform P,R into X,Y for Euclidean scatter.\n",
    "    X, Y = R*np.cos(P), R*np.sin(P)\n",
    "    \n",
    "    # Still need the RGBs for scatter colors\n",
    "    # X is the N*M x 3 version of the image.\n",
    "    Xrgb = np.stack([I[...,i].ravel() for i in range(3)]).T\n",
    "    \n",
    "    # Pick a random subset of the pixels to plot. Otherwise, pretty chaotic and slow.\n",
    "    # https://docs.scipy.org/doc/numpy/reference/generated/numpy.random.choice.html\n",
    "    randomInds = np.random.choice(np.arange(X.shape[0]), numpoints, replace=False)\n",
    "\n",
    "    \n",
    "    fig = plt.figure(figsize=(5,4))\n",
    "    ax = fig.add_subplot(111, projection='3d')\n",
    "    \n",
    "    # point colors\n",
    "    point_colors = Xrgb[randomInds, :]\n",
    "    if point_colors.max() > 1:\n",
    "        point_colors = point_colors-point_colors.min()\n",
    "        point_colors = point_colors/point_colors.max()\n",
    "\n",
    "    #Now plot those pixels in the 3d space.\n",
    "    ax.scatter(X[randomInds], Y[randomInds], Z[randomInds], \n",
    "               c=point_colors, depthshade=False)\n",
    "\n",
    "    #Label the axes.\n",
    "    ax.set_xlabel('H and S')\n",
    "    ax.set_ylabel('H and S')\n",
    "    ax.set_zlabel('Value')"
   ]
  },
  {
   "cell_type": "code",
   "execution_count": null,
   "metadata": {},
   "outputs": [],
   "source": [
    "visHSV(Irgb)"
   ]
  },
  {
   "cell_type": "markdown",
   "metadata": {},
   "source": [
    "&nbsp;\n",
    "\n",
    "## Manipulating the HSV components of an image..."
   ]
  },
  {
   "cell_type": "code",
   "execution_count": null,
   "metadata": {},
   "outputs": [],
   "source": [
    "def changeHue(newhue):\n",
    "    global Ihsv\n",
    "    change = newhue - Ihsv[...,0].mean()\n",
    "    \n",
    "    Ic = Ihsv.copy()\n",
    "    Ic[...,0] = np.fmod(Ic[...,0]+change, 1) # anything > 1 wraps around 0.\n",
    "    \n",
    "    neg = Ic[...,0] < 0\n",
    "    Ic[neg, 0] = 1 + Ic[neg, 0]\n",
    "    \n",
    "    return np.clip(Ic, 0, 1)"
   ]
  },
  {
   "cell_type": "code",
   "execution_count": null,
   "metadata": {},
   "outputs": [],
   "source": [
    "from ipywidgets import VBox, HBox, FloatSlider\n",
    "\n",
    "plt.ioff()\n",
    "plt.clf()\n",
    "\n",
    "hue_mean = Ihsv[...,0].mean()\n",
    "\n",
    "hue_slider = FloatSlider(\n",
    "    orientation='horizontal',\n",
    "    value=hue_mean,\n",
    "    min=0.00,\n",
    "    max=1.00,\n",
    "    step=0.01,\n",
    "    description='Hue'\n",
    ")\n",
    "\n",
    "fig_args = {'num':' ', 'frameon':True, 'sharex':True, 'sharey':True}\n",
    "fig, ax = plt.subplots(1,2, figsize=(8,3), **fig_args) \n",
    "\n",
    "I_h = changeHue(hue_mean)\n",
    "I_rgb = color.hsv2rgb(I_h)\n",
    "\n",
    "# display artists I'll update\n",
    "adisp = ax[0].imshow(Irgb)\n",
    "rdisp = ax[1].imshow(I_rgb)\n",
    "\n",
    "ax[0].set_title(f'Original ({hue_mean:.03f})')\n",
    "rtext = ax[1].set_title(f'Hue: {hue_mean:.03f}')\n",
    "\n",
    "\n",
    "def update_image(change):\n",
    "    global Ihsv, I_h, adisp, rdisp, rtext\n",
    "    \n",
    "    I_rgb = color.hsv2rgb(changeHue(change.new)) \n",
    "    rdisp.set_array(I_rgb)\n",
    "    rtext.set_text(f'Hue: {change.new:.03f}')\n",
    "    fig.canvas.draw()\n",
    "    fig.canvas.flush_events()\n",
    "\n",
    "hue_slider.observe(update_image, names='value')\n",
    "\n",
    "plt.tight_layout()\n",
    "\n",
    "VBox([hue_slider, fig.canvas])\n"
   ]
  },
  {
   "cell_type": "code",
   "execution_count": null,
   "metadata": {},
   "outputs": [],
   "source": []
  }
 ],
 "metadata": {
  "kernelspec": {
   "display_name": "Python 3",
   "language": "python",
   "name": "python3"
  },
  "language_info": {
   "codemirror_mode": {
    "name": "ipython",
    "version": 3
   },
   "file_extension": ".py",
   "mimetype": "text/x-python",
   "name": "python",
   "nbconvert_exporter": "python",
   "pygments_lexer": "ipython3",
   "version": "3.7.3"
  }
 },
 "nbformat": 4,
 "nbformat_minor": 4
}

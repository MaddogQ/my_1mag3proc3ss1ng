{
 "cells": [
  {
   "cell_type": "markdown",
   "metadata": {},
   "source": [
    "# LAB - Luminance, a (green-red), b (blue-yellow) colorspace\n",
    "Stough, DIP\n",
    "\n",
    "- [skimage's color module](https://scikit-image.org/docs/dev/api/skimage.color.html)\n",
    "- [What is L*a*b*?](https://en.wikipedia.org/wiki/CIELAB_color_space)\n",
    "- [Why Lab?](https://graphicdesign.stackexchange.com/questions/76824/what-are-the-pros-and-cons-of-using-lab-color)\n",
    "\n",
    "The Lab colorspace is also oriented around adjusting color according to human vision\n",
    "*perception* as opposed to mechanism (r-g-b stimulus).\n",
    "\n",
    "<img src=\"https://i.pinimg.com/originals/bf/2d/0e/bf2d0e090f386111cae1d8e06d4f0015.jpg\" style=\"width:auto;height:200px\"/> <img src=\"https://www.color-management-guide.com/images/basics-of-color/chromacity-diagram-lab-space.jpg\" style=\"width:auto;height:200px\"/> "
   ]
  },
  {
   "cell_type": "code",
   "execution_count": null,
   "metadata": {},
   "outputs": [],
   "source": [
    "%matplotlib widget\n",
    "import matplotlib.pyplot as plt\n",
    "import numpy as np\n",
    "import skimage.color as color\n",
    "import matplotlib.colors as mcolors\n",
    "\n",
    "# For importing from alternative directory sources\n",
    "import sys  \n",
    "sys.path.insert(0, '../dip_utils')\n",
    "\n",
    "import matrix_utils\n",
    "from vis_utils import (vis_rgb_cube,\n",
    "                       vis_hists,\n",
    "                       lab_uniform)"
   ]
  },
  {
   "cell_type": "code",
   "execution_count": null,
   "metadata": {},
   "outputs": [],
   "source": [
    "IMAGE = 'mountainSpring.jpg'\n",
    "# IMAGE = 'peppers.png'\n",
    "\n",
    "# Let's construct our own colormaps\n",
    "cm_KR = mcolors.LinearSegmentedColormap.from_list('kr', [(0,0,0), (1, 0, 0)], 256)\n",
    "cm_KG = mcolors.LinearSegmentedColormap.from_list('kg', [(0,0,0), (0, 1, 0)], 256)\n",
    "cm_KB = mcolors.LinearSegmentedColormap.from_list('kb', [(0,0,0), (0, 0, 1)], 256)"
   ]
  },
  {
   "cell_type": "code",
   "execution_count": null,
   "metadata": {},
   "outputs": [],
   "source": [
    "# I want to be careful about my colormaps being uniform in perceived intensity: L*a*b* is the way to go.\n",
    "def labUniform(lyst):\n",
    "    clyst = np.array(lyst, ndmin=3)\n",
    "    clyst_lab = color.rgb2lab(clyst)\n",
    "    # Give every one the average luminance.\n",
    "    clyst_lab[...,0] = np.mean(clyst_lab[...,0].ravel())\n",
    "    return color.lab2rgb(clyst_lab).squeeze()"
   ]
  },
  {
   "cell_type": "code",
   "execution_count": null,
   "metadata": {},
   "outputs": [],
   "source": [
    "# Let's construct our own colormaps for the a and b dimensions.\n",
    "colorsA = [(0,1,0), (.5,.5,.5), (1,0,0)] # green -> red\n",
    "colorsB = [(0,0,1), (.5,.5,.5), (1,1,0)] # blue -> yellow\n",
    "\n",
    "cmA = mcolors.LinearSegmentedColormap.from_list('GreenRed', labUniform(colorsA), 256)\n",
    "cmB = mcolors.LinearSegmentedColormap.from_list('BlueYellow', labUniform(colorsB), 256)"
   ]
  },
  {
   "cell_type": "code",
   "execution_count": null,
   "metadata": {},
   "outputs": [],
   "source": [
    "def arrInfo(arr):\n",
    "    return arr.shape, arr.min(), arr.max(), arr.dtype"
   ]
  },
  {
   "cell_type": "code",
   "execution_count": null,
   "metadata": {},
   "outputs": [],
   "source": [
    "Irgb = io.imread(IMAGE)\n",
    "\n",
    "# Image of uniform random distributed color\n",
    "# Irgb = np.concatenate([np.random.rand(100,100,1) for x in range(3)], axis = 2)"
   ]
  },
  {
   "cell_type": "code",
   "execution_count": null,
   "metadata": {},
   "outputs": [],
   "source": [
    "f, ax = plt.subplots(3,3, figsize = (8,6), sharex=True, sharey=True)\n",
    "\n",
    "Ilab = color.rgb2lab(Irgb)\n",
    "\n",
    "# Row 0: just the full color image\n",
    "ax[0][1].imshow(Irgb)\n",
    "ax[0][0].set_axis_off()\n",
    "ax[0][2].set_axis_off()\n",
    "\n",
    "# Row 1: r g b channels\n",
    "for i in range(3):\n",
    "    ax[1,i].imshow(Irgb[...,i], cmap=[cm_KR, cm_KG, cm_KB][i])\n",
    "    ax[1,i].set_title(['Red', 'Green', 'Blue'][i])\n",
    "\n",
    "\n",
    "# Now to display the HSV space.\n",
    "\n",
    "ax[2,0].imshow(Ilab[...,0], cmap='gray')\n",
    "ax[2,0].set_title('L')\n",
    "\n",
    "ax[2,1].imshow(Ilab[...,1], cmap=cmA)\n",
    "ax[2,1].set_title('a - green->red')\n",
    "\n",
    "ax[2,2].imshow(Ilab[...,2], cmap=cmB)\n",
    "ax[2,2].set_title('b - blue->yellow')\n",
    "\n",
    "plt.tight_layout()\n",
    "f.canvas.set_window_title('RGB vs HSV')\n",
    "plt.show()"
   ]
  },
  {
   "cell_type": "markdown",
   "metadata": {},
   "source": [
    "&nbsp;\n",
    "\n",
    "## Let's visualize in 3D"
   ]
  },
  {
   "cell_type": "code",
   "execution_count": null,
   "metadata": {},
   "outputs": [],
   "source": [
    "from mpl_toolkits.mplot3d import Axes3D\n",
    "def visLab(I, numpoints = 5000):\n",
    "    \n",
    "    Ilab = color.rgb2lab(I)\n",
    "\n",
    "    # for scattering\n",
    "    Xlab = np.concatenate([np.expand_dims(Ichan, axis = 1) for Ichan in\n",
    "                           [Ilab[...,0].ravel(), Ilab[...,1].ravel(), Ilab[...,2].ravel()]], axis = 1)\n",
    "    \n",
    "    # Still need the RGBs for scatter colors\n",
    "    # X is the N*M x 3 version of the image.\n",
    "    Xrgb = np.concatenate([np.expand_dims(Ichan, axis = 1) for Ichan in\n",
    "                           [I[...,0].ravel(), I[...,1].ravel(), I[...,2].ravel()]], axis = 1)\n",
    "    \n",
    "    # Pick a random subset of the pixels to plot. Otherwise, pretty chaotic and slow.\n",
    "    # https://docs.scipy.org/doc/numpy/reference/generated/numpy.random.choice.html\n",
    "    randomInds = np.random.choice(np.arange(Xlab.shape[0]), numpoints, replace=False)\n",
    "\n",
    "    \n",
    "    fig = plt.figure(figsize=(5,4))\n",
    "    ax = fig.add_subplot(111, projection='3d')\n",
    "    \n",
    "    # point colors\n",
    "    point_colors = Xrgb[randomInds, :]\n",
    "    if point_colors.max() > 1:\n",
    "        point_colors = point_colors-point_colors.min()\n",
    "        point_colors = point_colors/point_colors.max()\n",
    "\n",
    "    #Now plot those pixels in the 3d space.\n",
    "    ax.scatter(Xlab[randomInds,1], Xlab[randomInds,2], Xlab[randomInds,0], \n",
    "               c=point_colors, depthshade=False)\n",
    "\n",
    "    #Label the axes.\n",
    "    ax.set_xlabel('green->red')\n",
    "    ax.set_ylabel('blue->yellow')\n",
    "    ax.set_zlabel('Lightness')"
   ]
  },
  {
   "cell_type": "code",
   "execution_count": null,
   "metadata": {},
   "outputs": [],
   "source": [
    "visLab(Irgb)"
   ]
  },
  {
   "cell_type": "code",
   "execution_count": null,
   "metadata": {},
   "outputs": [],
   "source": []
  }
 ],
 "metadata": {
  "kernelspec": {
   "display_name": "Python 3",
   "language": "python",
   "name": "python3"
  },
  "language_info": {
   "codemirror_mode": {
    "name": "ipython",
    "version": 3
   },
   "file_extension": ".py",
   "mimetype": "text/x-python",
   "name": "python",
   "nbconvert_exporter": "python",
   "pygments_lexer": "ipython3",
   "version": "3.7.3"
  }
 },
 "nbformat": 4,
 "nbformat_minor": 4
}

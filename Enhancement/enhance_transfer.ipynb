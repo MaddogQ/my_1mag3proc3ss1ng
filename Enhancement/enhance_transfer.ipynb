{
 "cells": [
  {
   "cell_type": "markdown",
   "metadata": {},
   "source": [
    "# Contrast and Image Enhancement\n",
    "## Transfer Functions\n",
    "stough 202-\n",
    "\n",
    "1. [Windowing and Piece-wise Linear Transforms](#windowing)\n",
    "1. [Log Transforms](#log)\n",
    "1. [Power Transforms](#power)\n",
    "\n",
    "*A lot of pictures from my slides might go here.*\n",
    "\n",
    "- Enhancement: manipulating an image to be more suitable *for the application*\n",
    "  - Human perception\n",
    "  - Compressibility\n",
    "  - ?\n",
    "- Contrast: difference in color or luminance between nearby elements or over a whole image\n",
    "  - quantifiable globally through histograms\n",
    "  - think of the difference between the Gaussian and Uniform distributions and how that looked in the RGB cube.\n",
    "  \n",
    "In this notebook we'll consider some images that could be *enhanced* by improving the *contrast*. We'll apply Transfer functions of various type, which can all very generally be expressed as\n",
    "\n",
    "\\begin{equation*}\n",
    "s = \\mathbf{T}(r)\n",
    "\\end{equation*}\n",
    "\n",
    "where $r$ is the image intensity stored in the file, and $s$ is a *corrected* or transformed intensity that we want the display device to use. "
   ]
  },
  {
   "cell_type": "markdown",
   "metadata": {},
   "source": [
    "## Imports\n",
    "Note the addition of the `vis_pair` function, which can nicely plot an original and changed image for side-by-side comparison."
   ]
  },
  {
   "cell_type": "code",
   "execution_count": null,
   "metadata": {},
   "outputs": [],
   "source": [
    "%matplotlib widget\n",
    "import matplotlib.pyplot as plt\n",
    "import numpy as np\n",
    "import matplotlib.colors as mcolors\n",
    "import skimage.color as color\n",
    "from ipywidgets import VBox, HBox, FloatSlider\n",
    "\n",
    "# For importing from alternative directory sources\n",
    "import sys  \n",
    "sys.path.insert(0, '../dip_utils')\n",
    "\n",
    "import matrix_utils\n",
    "from vis_utils import (vis_rgb_cube,\n",
    "                       vis_hsv_cube,\n",
    "                       vis_hists,\n",
    "                       vis_pair,\n",
    "                       lab_uniform)"
   ]
  },
  {
   "cell_type": "markdown",
   "metadata": {},
   "source": [
    "<a id='windowing'></a>\n",
    "## Windowing and Piece-wise Linear Transforms\n",
    "\n",
    "The simplest transfer function one might imagine is the linear function\n",
    "\n",
    "\\begin{equation*}\n",
    "\\mathbf{T}(r) = Ax+B\n",
    "\\end{equation*}\n",
    "\n",
    "where $A$ and $B$ are constants. Let's consider a particular case."
   ]
  },
  {
   "cell_type": "code",
   "execution_count": null,
   "metadata": {},
   "outputs": [],
   "source": [
    "I = plt.imread('../dip_pics/got_tooDark.jpg')\n",
    "vis_hists(I)"
   ]
  },
  {
   "cell_type": "markdown",
   "metadata": {},
   "source": [
    "This image has pretty much all of its pixels bunched up in the lower half of the nominal display range $[0,255]$. Notwithstanding the director's intent in choreographing the shot, let's \"correct\" for my old eyes. A simple linear function might do. But we have to remember that `matplotlib` expects three channel-images to stay in $[0,255]$ (if integer type)."
   ]
  },
  {
   "cell_type": "code",
   "execution_count": null,
   "metadata": {},
   "outputs": [],
   "source": [
    "def simpleLinear(I, A = 1.0, B = 0.0):\n",
    "    '''\n",
    "    simpleLinear(I, A = 1.0, B = 0.0): return a linearly transformed image with the \n",
    "    provided constants A and B. \n",
    "    '''\n",
    "    Tr = lambda x: A*x + B\n",
    "    J = Tr(I.astype('float'))\n",
    "    return np.clip(J, 0, 255).astype('uint8')"
   ]
  },
  {
   "cell_type": "markdown",
   "metadata": {},
   "source": [
    "We can even see practically what this simple linear transform does in transforming the input intensity."
   ]
  },
  {
   "cell_type": "code",
   "execution_count": null,
   "metadata": {},
   "outputs": [],
   "source": [
    "x = np.arange(256)\n",
    "plt.figure(figsize=(4,3))\n",
    "plt.plot(x, x, label='equal')\n",
    "plt.plot(x, simpleLinear(x, A = 3), label = '3x+0')\n",
    "plt.xlabel('Input Intensity')\n",
    "plt.ylabel('Output Intensity')\n",
    "plt.legend()\n",
    "plt.tight_layout()"
   ]
  },
  {
   "cell_type": "code",
   "execution_count": null,
   "metadata": {},
   "outputs": [],
   "source": [
    "I_corrected = simpleLinear(I, A = 3)\n",
    "vis_pair(I, I_corrected)"
   ]
  },
  {
   "cell_type": "markdown",
   "metadata": {},
   "source": [
    "You can see what we did by viewing the histograms, or even (cooler), seeing what happened in the rgb cube!"
   ]
  },
  {
   "cell_type": "code",
   "execution_count": null,
   "metadata": {},
   "outputs": [],
   "source": [
    "vis_hists(I)\n",
    "vis_hists(I_corrected)"
   ]
  },
  {
   "cell_type": "code",
   "execution_count": null,
   "metadata": {},
   "outputs": [],
   "source": [
    "vis_rgb_cube(I)\n",
    "vis_rgb_cube(I_corrected)"
   ]
  },
  {
   "cell_type": "markdown",
   "metadata": {},
   "source": [
    "One approach you may think of is to renormalize the intensity so that min, max is exactly $[0,255]$. This is of course *also a linear transform*:\n",
    "\n",
    "\\begin{equation*}\n",
    "\\mathbf{T}(r) = 255 \\frac{r - \\tt{I.min}}{\\tt{I.max} - \\tt{I.min}} \\\\\n",
    "\\end{equation*}\n",
    "\n",
    "or $A = \\frac{255}{\\tt{I.max} - \\tt{I.min}}$, and $B = \\frac{-255\\times\\tt{I.min}}{\\tt{I.max} - \\tt{I.min}}$"
   ]
  },
  {
   "cell_type": "code",
   "execution_count": null,
   "metadata": {},
   "outputs": [],
   "source": [
    "I_normed = simpleLinear(I, A = 255.0/(I.max()-I.min()), B = -255*I.min()/(I.max()-I.min()))\n",
    "vis_pair(I_corrected, I_normed)"
   ]
  },
  {
   "cell_type": "markdown",
   "metadata": {},
   "source": [
    "If we plot all of these potential linear maps we can see their varying effect."
   ]
  },
  {
   "cell_type": "code",
   "execution_count": null,
   "metadata": {},
   "outputs": [],
   "source": [
    "x = np.arange(256)\n",
    "plt.figure(figsize=(4,3))\n",
    "plt.plot(x, x, label='equal')\n",
    "plt.plot(x, simpleLinear(x, A = 3), label = '3x+0')\n",
    "plt.plot(x, simpleLinear(x, A = 255.0/(I.max()-I.min()), B = -255*I.min()/(I.max()-I.min())), label='min-max normed')\n",
    "plt.xlabel('Input Intensity')\n",
    "plt.ylabel('Output Intensity')\n",
    "plt.legend()\n",
    "plt.tight_layout()"
   ]
  },
  {
   "cell_type": "markdown",
   "metadata": {},
   "source": [
    "### Gaussian Noise Example\n",
    "\n",
    "We'll do one more example with windowing. We'll use a Gaussian distributed random image that we've come to know from previous notebooks. It abstractly represents poor contrast, because its intensities are bunched up relative to a uniform distributed image."
   ]
  },
  {
   "cell_type": "code",
   "execution_count": null,
   "metadata": {},
   "outputs": [],
   "source": [
    "I_uniform = np.uint8(256*np.random.random((100,100,3)))\n",
    "I_gauss = np.clip(128 + 30*np.random.randn(100,100,3), 0, 255).astype('uint8')"
   ]
  },
  {
   "cell_type": "code",
   "execution_count": null,
   "metadata": {},
   "outputs": [],
   "source": [
    "vis_pair(I_uniform, I_gauss, first_title='Uniform Dist', second_title='Gaussian Dist')\n",
    "vis_rgb_cube(I_gauss)\n",
    "vis_hists(I_gauss, bins=np.arange(257))"
   ]
  },
  {
   "cell_type": "markdown",
   "metadata": {},
   "source": [
    "Looking at the histogram of `I_gauss`, you see that most of the intensities seem to be bunched up in the $[50,200]$ range. But our output range is $[0,255]$, so we have some room to work with. We want to define a transfer function that will dedicate the entire output range to where in the input range our data actually are. Let's make a function that linearly maps some input range to some output range. While we could formulate this in terms of [$Ax+B$](http://www.webmath.com/equline1.html) or the [two point form](https://www.cuemath.com/geometry/two-point-form/), I like to think of it as mixing: we're mixing between 0 and 255, and the mixing amount is equal to how far we are along the road from 50 to 200.\n",
    "\n",
    "\\begin{equation*}\n",
    "\\mathbf{T}(r) = (1-\\alpha)\\times0 + \\alpha\\times255\\\\\n",
    "\\alpha = \\frac{r - 50}{200-50}\n",
    "\\end{equation*}"
   ]
  },
  {
   "cell_type": "code",
   "execution_count": null,
   "metadata": {},
   "outputs": [],
   "source": [
    "def make_linmap(inputrange, outputrange):\n",
    "    a,b = inputrange\n",
    "    c,d = outputrange\n",
    "    \n",
    "    return lambda x: (1-((x-a)/(b-a)))*c + ((x-a)/(b-a))*d"
   ]
  },
  {
   "cell_type": "code",
   "execution_count": null,
   "metadata": {},
   "outputs": [],
   "source": []
  },
  {
   "cell_type": "code",
   "execution_count": null,
   "metadata": {},
   "outputs": [],
   "source": []
  },
  {
   "cell_type": "code",
   "execution_count": null,
   "metadata": {},
   "outputs": [],
   "source": []
  },
  {
   "cell_type": "code",
   "execution_count": null,
   "metadata": {},
   "outputs": [],
   "source": []
  },
  {
   "cell_type": "markdown",
   "metadata": {},
   "source": [
    "<a id='log'></a>\n",
    "## Log Transforms\n",
    "\n",
    "Windowing redistributed all of the output range to "
   ]
  },
  {
   "cell_type": "code",
   "execution_count": null,
   "metadata": {},
   "outputs": [],
   "source": []
  },
  {
   "cell_type": "code",
   "execution_count": null,
   "metadata": {},
   "outputs": [],
   "source": []
  },
  {
   "cell_type": "markdown",
   "metadata": {},
   "source": [
    "<a id='power'></a>\n",
    "## Power Transforms"
   ]
  },
  {
   "cell_type": "code",
   "execution_count": null,
   "metadata": {},
   "outputs": [],
   "source": []
  },
  {
   "cell_type": "code",
   "execution_count": null,
   "metadata": {},
   "outputs": [],
   "source": []
  }
 ],
 "metadata": {
  "kernelspec": {
   "display_name": "Python 3",
   "language": "python",
   "name": "python3"
  },
  "language_info": {
   "codemirror_mode": {
    "name": "ipython",
    "version": 3
   },
   "file_extension": ".py",
   "mimetype": "text/x-python",
   "name": "python",
   "nbconvert_exporter": "python",
   "pygments_lexer": "ipython3",
   "version": "3.7.3"
  }
 },
 "nbformat": 4,
 "nbformat_minor": 4
}

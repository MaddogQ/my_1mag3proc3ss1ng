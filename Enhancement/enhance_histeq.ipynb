{
 "cells": [
  {
   "cell_type": "markdown",
   "metadata": {},
   "source": [
    "# Contrast and Image Enhancement\n",
    "## Histogram Equalization\n",
    "stough 202-\n",
    "DIP, exactly the content in 3.3.1 on Histogram Equalization.\n",
    "\n",
    "At this point we've seen the usefulness of transfer functions for contrast enhancement in images, from simple linear windowing to nonliner transforms like power and log. We saw that in this context we look to construct transfer functions that dedicate more of the output range to the subset(s) of the input range where the image intensities are concentrated. In this notebook we'll practically formulate the ideal contrast enhancing transfer function given any particular image."
   ]
  },
  {
   "cell_type": "markdown",
   "metadata": {},
   "source": [
    "## Imports"
   ]
  },
  {
   "cell_type": "code",
   "execution_count": null,
   "metadata": {},
   "outputs": [],
   "source": [
    "%matplotlib widget\n",
    "import matplotlib.pyplot as plt\n",
    "import numpy as np\n",
    "import matplotlib.colors as mcolors\n",
    "import skimage.color as color\n",
    "from ipywidgets import VBox, HBox, FloatLogSlider\n",
    "\n",
    "# For importing from alternative directory sources\n",
    "import sys  \n",
    "sys.path.insert(0, '../dip_utils')\n",
    "\n",
    "from matrix_utils import (arr_info,\n",
    "                          make_linmap)\n",
    "\n",
    "from vis_utils import (vis_rgb_cube,\n",
    "                       vis_hsv_cube,\n",
    "                       vis_hists,\n",
    "                       vis_pair,\n",
    "                       lab_uniform)"
   ]
  },
  {
   "cell_type": "markdown",
   "metadata": {},
   "source": [
    "## Prior Example Transfer Functions\n",
    "\n",
    "Here is a quick plot and discussion of some of the transfer functions covered in the [enhance_transfer](./enhance_transfer.ipynb) notebook."
   ]
  },
  {
   "cell_type": "code",
   "execution_count": null,
   "metadata": {},
   "outputs": [],
   "source": [
    "x = np.arange(256)\n",
    "plt.figure(figsize=(6,4))\n",
    "plt.plot(x, x, c = 'blue', label = 'equal')\n",
    "plt.plot(x, np.clip(make_linmap([50,150], [0,255])(x), 0, 255), label = 'win [50,150]')\n",
    "plt.plot(x, (255/8)*np.log2(1 + x), label = '$log_{2}$')\n",
    "plt.plot(x, np.power(2,(256/255)*x/32)-1, label = '$2^{x}$')\n",
    "c = 255.0/(np.power(255.0, 2.4))\n",
    "plt.plot(x, c*np.power(x,2.4), label = f'$\\gamma$ {2.4:.01f}')\n",
    "plt.plot(x, 16*np.sqrt(x), label = 'sqrt')\n",
    "\n",
    "\n",
    "plt.xlabel('Input Intensity')\n",
    "plt.ylabel('Output Intensity')\n",
    "plt.legend()\n",
    "plt.tight_layout()"
   ]
  },
  {
   "cell_type": "markdown",
   "metadata": {},
   "source": [
    "We saw previously that if our image has pixels that are all bunched up in color/intensity, leading to low contrast, our transfer function should accentuate those differences and thus improve contrast. We also saw how the histogram can tell us where to find these concentrations in the input domain.\n",
    "\n",
    "Seen more practically then, a good transfer function has a <span style=\"color:#FF9966\">**slope above 1, leading to expansion**</span> and higher contrast, where the frequency of intensities is high in the input domain. To balance against that expansion though, the slope must end up <span style=\"color:#FF9966\">**less than 1, leading to compression**</span> of differences and reduction of contrast, in parts of the input domain that are sparsely populated. \n",
    "\n",
    "As a result, we saw how an overexposed image, with many bright intensities and few dark ones, could be improved with for example an exponential ($2^{x}$). Similarly an underexposed image, with large dark areas, could be improved by a $log$ or square root transform ($\\gamma=1/2$)."
   ]
  },
  {
   "cell_type": "markdown",
   "metadata": {},
   "source": [
    "### Make Gausisan and Uniform Random Images\n",
    "\n",
    "See how the uniform has better contrast, see what that means\n",
    "in the histograms. We can see that higher contrast goes in hand with a uniform histogram."
   ]
  },
  {
   "cell_type": "code",
   "execution_count": null,
   "metadata": {},
   "outputs": [],
   "source": [
    "I_uniform = np.uint8(256*np.random.random((100,100,3)))\n",
    "I_gauss = np.clip(128 + 30*np.random.randn(100,100,3), 0, 255).astype('uint8')"
   ]
  },
  {
   "cell_type": "code",
   "execution_count": null,
   "metadata": {},
   "outputs": [],
   "source": [
    "vis_hists(I_uniform)\n",
    "vis_hists(I_gauss)"
   ]
  },
  {
   "cell_type": "markdown",
   "metadata": {},
   "source": [
    "### Build a parametric function that would spread the data out in `I_gauss`.\n",
    "We decided that would be an [S curve or sigmoid](https://en.wikipedia.org/wiki/Sigmoid_function).\n",
    "\n",
    "$$S(x) = \\frac{1}{1 + e^{-x}}$$\n",
    "\n",
    "But we need a sigmoid that is centered around .5 and steep enough to look like an s inside [0,1]. We can rescale to our $[0,255]$ mapping afterwards\n",
    "\n",
    "$$S(x, x_c, s) = \\frac{1}{1 + e^{-s(x-x_c)}}$$"
   ]
  },
  {
   "cell_type": "code",
   "execution_count": null,
   "metadata": {},
   "outputs": [],
   "source": [
    "def make_scurve(xc, s):\n",
    "    return lambda x: 1/(1+np.exp(-(s*(x-xc))))"
   ]
  },
  {
   "cell_type": "code",
   "execution_count": null,
   "metadata": {},
   "outputs": [],
   "source": [
    "x = np.arange(0,1,1/100)\n",
    "# f = lambda x: 1/(1+np.exp(-(10*(x-.5))))\n",
    "f = make_scurve(.5, 10)\n",
    "plt.figure(figsize=(4,3))\n",
    "plt.plot(x, f(x));"
   ]
  },
  {
   "cell_type": "markdown",
   "metadata": {},
   "source": [
    "### Apply the function to `I_gauss` and see how it improves contrast.\n",
    "\n",
    "Since the S-curve function will return floating point numbers, for display purposes we must stick to $[0,1]$. "
   ]
  },
  {
   "cell_type": "code",
   "execution_count": null,
   "metadata": {},
   "outputs": [],
   "source": [
    "vis_pair(I_gauss, f(I_gauss/255.0)) # or (255*f(I_gauss/255.0)).astype('uint8'))"
   ]
  },
  {
   "cell_type": "code",
   "execution_count": null,
   "metadata": {},
   "outputs": [],
   "source": [
    "vis_rgb_cube(f(I_gauss/255.0))"
   ]
  },
  {
   "cell_type": "markdown",
   "metadata": {},
   "source": [
    "### We can accomplish the same thing emperically, through the [cumulative distribution function](https://en.wikipedia.org/wiki/Cumulative_distribution_function) on the histogram\n",
    "\n",
    "A fundamental result from probability theory, if $s = \\mathbf{T}(r)$ for $\\mathbf{T}$ continuous and differentiable:\n",
    "$$p_s(s) = p_r(r)\\begin{vmatrix}{\\frac{dr}{ds}}\\end{vmatrix}$$\n",
    "\n",
    "The CDF measures the probability that a random variable $X$ takes on a value less than or equal to $x$:\n",
    "\n",
    " $$P(X \\le x) = \\intop_{0}^{x} p_r(w)dw$$\n",
    " \n",
    "where $p_r$ is the probability distribution (read: histogram) of our random variable $r$. So to transform into a uniform distribution, our transfer function should be:\n",
    "\n",
    " $$s = \\mathbf{T}(r) = (L-1) \\intop_{0}^{r} p_r(w)dw$$\n",
    " \n",
    "Another way of looking at this transfer function is that it <span style=\"color:#FF9966\">transforms an input intensity to that intensity's rank/percentile in the image</span> (then scaled by the output max)."
   ]
  },
  {
   "cell_type": "code",
   "execution_count": null,
   "metadata": {},
   "outputs": [],
   "source": [
    "# First get the histogram of IN, and plot with the cdf.\n",
    "# normalize so they show up nicely.\n",
    "\n",
    "bins=np.arange(257)\n",
    "freq, bins = np.histogram(I_gauss.ravel(), bins=bins)\n",
    "freq = freq/freq.max()\n",
    "cdf = np.cumsum(freq)\n",
    "cdf = cdf/cdf.max()\n",
    "\n",
    "f = plt.figure(figsize=(4,3))\n",
    "plt.bar(bins[:-1], freq, width=.5) # width to keep the bars skinny enough.\n",
    "plt.plot(bins[:-1], cdf, 'r-');"
   ]
  },
  {
   "cell_type": "markdown",
   "metadata": {},
   "source": [
    "### It's coincidental that the sigmoid is the CDF of a Gaussian.  \n",
    "\n",
    "Let's apply the function that uses this empirical cdf (coming from the histogram).\n"
   ]
  },
  {
   "cell_type": "code",
   "execution_count": null,
   "metadata": {},
   "outputs": [],
   "source": [
    "from scipy.interpolate import interp1d\n",
    "\n",
    "func = interp1d(bins[:-1], cdf, fill_value='extrapolate') \n",
    "# 'extrapolate' is important here, otherwise a lot of out of bound errors."
   ]
  },
  {
   "cell_type": "code",
   "execution_count": null,
   "metadata": {},
   "outputs": [],
   "source": [
    "vis_pair(I_gauss, func(I_gauss))"
   ]
  },
  {
   "cell_type": "code",
   "execution_count": null,
   "metadata": {},
   "outputs": [],
   "source": [
    "# View the two histograms\n",
    "f, axarr = plt.subplots(1,1, figsize=(6, 3))\n",
    "\n",
    "funcI = func(I_gauss)\n",
    "\n",
    "axarr.hist(I_gauss.ravel(), bins=bins, alpha = .6, label = 'Original', color = 'r');\n",
    "axarr.hist(256*funcI.ravel(), bins=bins, alpha = .6, label = 'Equalized', color = 'g');\n",
    "axarr.legend(loc = 'upper right');\n",
    "plt.show()"
   ]
  },
  {
   "cell_type": "code",
   "execution_count": null,
   "metadata": {},
   "outputs": [],
   "source": []
  }
 ],
 "metadata": {
  "kernelspec": {
   "display_name": "Python 3",
   "language": "python",
   "name": "python3"
  },
  "language_info": {
   "codemirror_mode": {
    "name": "ipython",
    "version": 3
   },
   "file_extension": ".py",
   "mimetype": "text/x-python",
   "name": "python",
   "nbconvert_exporter": "python",
   "pygments_lexer": "ipython3",
   "version": "3.7.3"
  }
 },
 "nbformat": 4,
 "nbformat_minor": 4
}

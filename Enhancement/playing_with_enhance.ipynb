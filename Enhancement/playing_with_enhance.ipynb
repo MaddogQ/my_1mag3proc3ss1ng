{
 "cells": [
  {
   "cell_type": "markdown",
   "metadata": {},
   "source": [
    "# Playing with Contrast Enhancement, Histogram Equalization\n",
    "stough 202-\n",
    "\n",
    "We've now seen how to improve image contrast through the application of transfer functions like [windowing, power/gamma, log, and others](./enhance_histeq.ipynb). We've also seen how [Histogram Equalization](./enhance_histeq.ipynb) creates an ideal transfer function in some sense--that of leading to a uniform histogram. Use these other demos in order to answer the following questions"
   ]
  },
  {
   "cell_type": "code",
   "execution_count": 1,
   "metadata": {},
   "outputs": [],
   "source": [
    "%matplotlib widget\n",
    "import matplotlib.pyplot as plt\n",
    "import numpy as np\n",
    "import matplotlib.colors as mcolors\n",
    "import skimage.color as color\n",
    "from ipywidgets import VBox, HBox, IntSlider\n",
    "from scipy.interpolate import interp1d\n",
    "\n",
    "# For importing from alternative directory sources\n",
    "import sys  \n",
    "sys.path.insert(0, '../dip_utils')\n",
    "\n",
    "from matrix_utils import (arr_info,\n",
    "                          make_linmap)\n",
    "\n",
    "from vis_utils import (vis_rgb_cube,\n",
    "                       vis_hsv_cube,\n",
    "                       vis_lab_cube,\n",
    "                       vis_hists,\n",
    "                       vis_pair,\n",
    "                       lab_uniform)"
   ]
  },
  {
   "cell_type": "code",
   "execution_count": null,
   "metadata": {},
   "outputs": [],
   "source": []
  },
  {
   "cell_type": "markdown",
   "metadata": {},
   "source": [
    "## Find an Image\n",
    "\n",
    "Find **at least** two reasonably inoffensive images (maybe a little offensive) to test on. One key here is that because we're doing contrast enhancement, you might err on the side of lower-contrast images. You don't have to do every test on both, but it wouldn't be difficult."
   ]
  },
  {
   "cell_type": "code",
   "execution_count": 2,
   "metadata": {},
   "outputs": [
    {
     "data": {
      "application/vnd.jupyter.widget-view+json": {
       "model_id": "d472ed0f4caf49b4973b7ea43fc3e090",
       "version_major": 2,
       "version_minor": 0
      },
      "text/plain": [
       "Canvas(toolbar=Toolbar(toolitems=[('Home', 'Reset original view', 'home', 'home'), ('Back', 'Back to previous …"
      ]
     },
     "metadata": {},
     "output_type": "display_data"
    },
    {
     "data": {
      "text/plain": [
       "((640, 960, 3), dtype('uint8'), 0, 255)"
      ]
     },
     "execution_count": 2,
     "metadata": {},
     "output_type": "execute_result"
    }
   ],
   "source": [
    "I = plt.imread('../dip_pics/build.jpg')\n",
    "vis_hists(I)\n",
    "arr_info(I)"
   ]
  },
  {
   "cell_type": "markdown",
   "metadata": {},
   "source": [
    "## 1. Parametric Transfer Functions \n",
    "\n",
    "- Use `vis_hists` to **show the histogram of an image**. \n",
    "- With that visual assistance consider what parametric transfer function (power/gamma, log, exponent) might be helpful in this image's case.\n",
    "- **Justify your choice** with written description\n",
    "- **Display the result** of applying the transfer function of choice to the image. \n",
    "- You can use `vis_pair` to show both the original and the presumeably contrast-enhanced images together.\n",
    "- **Explain how**, with written description, the figures you generate either do or do not reflect your justification from before. You can even **show a zoomed-in section** that illustrates your contentions."
   ]
  },
  {
   "cell_type": "code",
   "execution_count": 3,
   "metadata": {},
   "outputs": [
    {
     "data": {
      "application/vnd.jupyter.widget-view+json": {
       "model_id": "37b641ad58624852a29eacacaa588ec7",
       "version_major": 2,
       "version_minor": 0
      },
      "text/plain": [
       "Canvas(toolbar=Toolbar(toolitems=[('Home', 'Reset original view', 'home', 'home'), ('Back', 'Back to previous …"
      ]
     },
     "metadata": {},
     "output_type": "display_data"
    }
   ],
   "source": [
    "# Use vis_hists to show the histogram of an image\n",
    "vis_hists(I)"
   ]
  },
  {
   "cell_type": "markdown",
   "metadata": {},
   "source": [
    "This photo have a high concentration of pixels on the range between [200, 255]. Therefore, to add more contrast, we need to mapping pixels in that range to a broader range. To accomplish this, we could choose concave up, increasing functions to apply on this image. So it could be power/gamma function with $\\gamma > 1$, or exponent function."
   ]
  },
  {
   "cell_type": "code",
   "execution_count": 4,
   "metadata": {},
   "outputs": [],
   "source": [
    "# Apply function to the image \n",
    "def power_img(I, gamma = 1):\n",
    "    factor = 255.0 / np.power(255.0, gamma)\n",
    "    J = factor * np.power(I.astype('double'), gamma)\n",
    "    return J.astype('uint8')\n",
    "\n",
    "J = power_img(I, 5)"
   ]
  },
  {
   "cell_type": "code",
   "execution_count": 5,
   "metadata": {},
   "outputs": [
    {
     "data": {
      "application/vnd.jupyter.widget-view+json": {
       "model_id": "c02895399c7740bdadd7c637ba6a73b5",
       "version_major": 2,
       "version_minor": 0
      },
      "text/plain": [
       "Canvas(toolbar=Toolbar(toolitems=[('Home', 'Reset original view', 'home', 'home'), ('Back', 'Back to previous …"
      ]
     },
     "metadata": {},
     "output_type": "display_data"
    }
   ],
   "source": [
    "vis_pair(I, J)"
   ]
  },
  {
   "cell_type": "code",
   "execution_count": 6,
   "metadata": {},
   "outputs": [
    {
     "data": {
      "application/vnd.jupyter.widget-view+json": {
       "model_id": "567de5be0a78414fabb27c2f946265ec",
       "version_major": 2,
       "version_minor": 0
      },
      "text/plain": [
       "Canvas(toolbar=Toolbar(toolitems=[('Home', 'Reset original view', 'home', 'home'), ('Back', 'Back to previous …"
      ]
     },
     "metadata": {},
     "output_type": "display_data"
    }
   ],
   "source": [
    "vis_hists(J)"
   ]
  },
  {
   "cell_type": "markdown",
   "metadata": {},
   "source": [
    "## 2. Alternative Colorspace\n",
    "\n",
    "**Show** the same parametric contrast enhancement as in Part 1, but performed **only on Luminance/Y/Value** dimension after conversion into  [Lab](../Color/color_Lab.ipynb)/[YCbCr](../Color/color_YCbCr.ipynb)/[HSV](../Color/color_HSV.ipynb). **Explain your results**. You only need to pick one of the three alternative colorspaces mentioned. Remember, you'll need to: \n",
    "\n",
    "- Convert to the alternative colorspace using the appropriate [skimage.color](https://scikit-image.org/docs/dev/api/skimage.color.html) function.\n",
    "- Change only the one channel you're working with. Be sure you're not producing out-of-bounds values for the particular colorspace you choose.\n",
    "- Convert back using the appropriate inverse from `skimage.color`."
   ]
  },
  {
   "cell_type": "code",
   "execution_count": 7,
   "metadata": {},
   "outputs": [
    {
     "data": {
      "text/plain": [
       "((640, 960, 3), dtype('float64'), -66.51691412480429, 100.0)"
      ]
     },
     "execution_count": 7,
     "metadata": {},
     "output_type": "execute_result"
    }
   ],
   "source": [
    "K = color.rgb2lab(I)\n",
    "arr_info(K)"
   ]
  },
  {
   "cell_type": "code",
   "execution_count": 8,
   "metadata": {},
   "outputs": [],
   "source": [
    "gamma = 5\n",
    "fac = 100.0 / np.power(100.0, gamma)\n",
    "K[...,0] = fac * np.power(K[...,0],gamma)"
   ]
  },
  {
   "cell_type": "code",
   "execution_count": 9,
   "metadata": {},
   "outputs": [
    {
     "data": {
      "application/vnd.jupyter.widget-view+json": {
       "model_id": "474edbb243a749ecabfc60354c3b134e",
       "version_major": 2,
       "version_minor": 0
      },
      "text/plain": [
       "Canvas(toolbar=Toolbar(toolitems=[('Home', 'Reset original view', 'home', 'home'), ('Back', 'Back to previous …"
      ]
     },
     "metadata": {},
     "output_type": "display_data"
    }
   ],
   "source": [
    "vis_pair(I, color.lab2rgb(K))"
   ]
  },
  {
   "cell_type": "code",
   "execution_count": 10,
   "metadata": {},
   "outputs": [
    {
     "data": {
      "application/vnd.jupyter.widget-view+json": {
       "model_id": "b35872db19df4296985c67c05ab81633",
       "version_major": 2,
       "version_minor": 0
      },
      "text/plain": [
       "Canvas(toolbar=Toolbar(toolitems=[('Home', 'Reset original view', 'home', 'home'), ('Back', 'Back to previous …"
      ]
     },
     "metadata": {},
     "output_type": "display_data"
    }
   ],
   "source": [
    "vis_hists(color.lab2rgb(K))"
   ]
  },
  {
   "cell_type": "markdown",
   "metadata": {},
   "source": [
    "## 3. Histogram Equalization\n",
    "\n",
    "Again you can use `vis_hists`, `vis_pair`, `vis_[rgb,lab,hsv,ybr]_cube` to visualize results.\n",
    "\n",
    "- **Histogram-equalize an image and show** the resulting change in the image (as in, \"Before\" and \"After\" with `vis_pair`).\n",
    "- **Explain how**, with written description, the figures you generate do or do not reflect good contrast enhancement. Are there aritifacts in the corrected image that make it not an \"improvement\" in your eyes? \n",
    "- Try with two alternative colorspaces: **Perform the histogram equalization on only the Luminance/Y/Value** dimension after conversion into  [Lab](../Color/color_Lab.ipynb)/[YCbCr](../Color/color_YCbCr.ipynb)/[HSV](../Color/color_HSV.ipynb) space, and **show the results**. \n",
    "- **Explain your results**."
   ]
  },
  {
   "cell_type": "code",
   "execution_count": 11,
   "metadata": {},
   "outputs": [
    {
     "name": "stdout",
     "output_type": "stream",
     "text": [
      "((640, 960, 3), dtype('uint8'), 0, 255)\n"
     ]
    },
    {
     "data": {
      "application/vnd.jupyter.widget-view+json": {
       "model_id": "c855eaf8733943a1962dc220f3b6bd35",
       "version_major": 2,
       "version_minor": 0
      },
      "text/plain": [
       "Canvas(toolbar=Toolbar(toolitems=[('Home', 'Reset original view', 'home', 'home'), ('Back', 'Back to previous …"
      ]
     },
     "metadata": {},
     "output_type": "display_data"
    }
   ],
   "source": [
    "M = color.rgb2ycbcr(I)\n",
    "\n",
    "bins=np.arange(16, 235)\n",
    "\n",
    "freq, bins = np.histogram(M[...,0].ravel(), bins=bins)\n",
    "\n",
    "freq = freq/freq.max()\n",
    "cdf = np.cumsum(freq)\n",
    "cdf = cdf/cdf.max()\n",
    "func = interp1d(bins[:-1], cdf, fill_value='extrapolate')\n",
    "\n",
    "M[...,0] = func(M[...,0])\n",
    "#M[...,0] = (M[...,0]-M[...,0].min()) / (M[...,0].max()-M[...,0].min()) * 255\n",
    "M[...,0] = M[...,0] / M[...,0].max() * 255\n",
    "\n",
    "Mrgb = color.ycbcr2rgb(M)\n",
    "Mrgb = Mrgb * 255 / (Mrgb.max() - Mrgb.min())\n",
    "Mrgb = np.uint8(Mrgb + abs(Mrgb.min()))\n",
    "print(arr_info(Mrgb))\n",
    "\n",
    "vis_pair(I, Mrgb, second_title='Hist Equalized')"
   ]
  },
  {
   "cell_type": "code",
   "execution_count": null,
   "metadata": {
    "scrolled": true
   },
   "outputs": [],
   "source": []
  },
  {
   "cell_type": "code",
   "execution_count": 12,
   "metadata": {},
   "outputs": [
    {
     "data": {
      "application/vnd.jupyter.widget-view+json": {
       "model_id": "b6b0cbabd30e46c6b4ad37b6a4fe155c",
       "version_major": 2,
       "version_minor": 0
      },
      "text/plain": [
       "Canvas(toolbar=Toolbar(toolitems=[('Home', 'Reset original view', 'home', 'home'), ('Back', 'Back to previous …"
      ]
     },
     "metadata": {},
     "output_type": "display_data"
    }
   ],
   "source": [
    "L = color.rgb2hsv(I)\n",
    "bins=len(np.unique(L[...,2].ravel()))\n",
    "freq, bins = np.histogram(L[...,2].ravel(), bins=bins)\n",
    "# Check bins\n",
    "freq = freq/freq.max()\n",
    "cdf = np.cumsum(freq)\n",
    "cdf = cdf/cdf.max()\n",
    "func = interp1d(bins[:-1], cdf, fill_value='extrapolate') \n",
    "L[...,2] = func(L[...,2])\n",
    "L[...,2] = L[...,2] / L[...,2].max()\n",
    "vis_pair(I, color.hsv2rgb(L), second_title='Hist Equalized')"
   ]
  },
  {
   "cell_type": "code",
   "execution_count": null,
   "metadata": {},
   "outputs": [],
   "source": []
  }
 ],
 "metadata": {
  "kernelspec": {
   "display_name": "Python 3",
   "language": "python",
   "name": "python3"
  },
  "language_info": {
   "codemirror_mode": {
    "name": "ipython",
    "version": 3
   },
   "file_extension": ".py",
   "mimetype": "text/x-python",
   "name": "python",
   "nbconvert_exporter": "python",
   "pygments_lexer": "ipython3",
   "version": "3.7.9"
  }
 },
 "nbformat": 4,
 "nbformat_minor": 4
}

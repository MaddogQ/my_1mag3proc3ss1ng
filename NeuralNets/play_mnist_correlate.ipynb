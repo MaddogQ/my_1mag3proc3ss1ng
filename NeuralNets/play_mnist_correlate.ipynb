{
 "cells": [
  {
   "cell_type": "markdown",
   "metadata": {},
   "source": [
    "# [MNIST](https://en.wikipedia.org/wiki/MNIST_database) Digit Recognition Through Averages\n",
    "stough 202-\n",
    "\n",
    "In this notebook we'll define a simple linear scheme for recognizing hand-written digits. Every image we train on and ever test against is a $28\\times28$ single-channel thumbnail. Look through [mnist_explore.ipynb](./mnist_explore.ipynb) for more. \n",
    "\n",
    "Our approach for recognizing the digit in a single image is simple: compare each pixel in the image against a template for each digit class. We'll do this through simple correlation: a dot-product of the image with the digit template. The higher the correlation, the higher the likelihood that the image is example of that template digit. "
   ]
  },
  {
   "cell_type": "code",
   "execution_count": 1,
   "metadata": {},
   "outputs": [],
   "source": [
    "%matplotlib inline\n",
    "# or widget\n",
    "import matplotlib.pyplot as plt\n",
    "\n",
    "import numpy as np\n",
    "from random import shuffle\n",
    "import copy\n",
    "import tempfile\n",
    "\n",
    "from functools import partial\n",
    "from multiprocessing.pool import ThreadPool\n",
    "\n",
    "import torch\n",
    "\n",
    "from torch.utils.data import (Dataset,\n",
    "                              DataLoader)\n",
    "from torchvision import datasets, transforms\n",
    "from torchvision.utils import make_grid\n",
    "\n",
    "# For importing from alternative directory sources\n",
    "import sys  \n",
    "sys.path.insert(0, '../dip_utils')\n",
    "\n",
    "from matrix_utils import (arr_info,\n",
    "                          make_linmap)"
   ]
  },
  {
   "cell_type": "markdown",
   "metadata": {},
   "source": [
    "## Loading and Formatting the MNIST Data"
   ]
  },
  {
   "cell_type": "code",
   "execution_count": 2,
   "metadata": {},
   "outputs": [],
   "source": [
    "# Thank you: https://www.aiworkbox.com/lessons/load-mnist-dataset-from-pytorch-torchvision\n",
    "# https://pytorch.org/docs/stable/torchvision/datasets.html\n",
    "mnist_trainset = datasets.MNIST(root='/home/dip365/data', train=True, download=False, transform=None)\n",
    "mnist_testset = datasets.MNIST(root='/home/dip365/data', train=False, download=False, transform=None)\n",
    "\n",
    "x_train = np.stack([np.array(x).ravel() for x,_ in mnist_trainset])\n",
    "x_test = np.stack([np.array(x).ravel() for x,_ in mnist_testset])\n",
    "y_train = np.stack([y for _,y in mnist_trainset]).astype('long')\n",
    "y_test = np.stack([y for _,y in mnist_testset]).astype('long')\n",
    "\n",
    "# These are Nx784\n",
    "x_train = x_train.astype(np.float32)/255.0\n",
    "x_test = x_test.astype(np.float32)/255.0"
   ]
  },
  {
   "cell_type": "code",
   "execution_count": 3,
   "metadata": {},
   "outputs": [
    {
     "data": {
      "text/plain": [
       "((60000, 784), dtype('float32'), 0.0, 1.0)"
      ]
     },
     "execution_count": 3,
     "metadata": {},
     "output_type": "execute_result"
    }
   ],
   "source": [
    "arr_info(x_train)"
   ]
  },
  {
   "cell_type": "markdown",
   "metadata": {},
   "source": [
    "## 1. Vector-normalize the `x_train` and `x_test` data.\n",
    "As you see above, each row of `x_train` (or `x_test`) is a $784$-dimensional vector. [Normalize](https://stackoverflow.com/questions/21030391/how-to-normalize-an-array-in-numpy-to-a-unit-vector) each row so that every image has a magnitude of $1$. We want to do this so that when we do correlations/[dot-products](https://en.wikipedia.org/wiki/Dot_product), the possible outcomes are all values in the range normalized range $[-1,1]$. Use [`norm`](https://numpy.org/doc/stable/reference/generated/numpy.linalg.norm.html) and [`divide`](https://docs.scipy.org/doc/numpy-1.13.0/reference/generated/numpy.divide.html) to pretty easily perform this normalization."
   ]
  },
  {
   "cell_type": "code",
   "execution_count": 4,
   "metadata": {},
   "outputs": [],
   "source": [
    "norm = np.linalg.norm(x_test, ord=2, axis=-1, keepdims=True)\n",
    "x_test = np.divide(x_test, norm)\n",
    "\n",
    "norm = np.linalg.norm(x_train, ord=2, axis=-1, keepdims=True)\n",
    "x_train = np.divide(x_train, norm)"
   ]
  },
  {
   "cell_type": "code",
   "execution_count": 5,
   "metadata": {},
   "outputs": [
    {
     "name": "stdout",
     "output_type": "stream",
     "text": [
      "Is every row of x_test normalized?\n"
     ]
    },
    {
     "data": {
      "text/plain": [
       "array([ True,  True,  True, ...,  True,  True,  True])"
      ]
     },
     "execution_count": 5,
     "metadata": {},
     "output_type": "execute_result"
    }
   ],
   "source": [
    "## Check correctness, should be all True...\n",
    "print(f'Is every row of x_test normalized?')\n",
    "np.isclose(np.linalg.norm(x_test, axis=-1), 1.0)"
   ]
  },
  {
   "cell_type": "markdown",
   "metadata": {},
   "source": [
    "## 2. Compute a $10\\times784$ matrix of template digits.\n",
    "See [mnist_explore.ipynb](./mnist_explore.ipynb), where we compute the average seven for example. Do this for every digit using the `x_train` (and `y_train`) data. I call the resulting matrix `A` in the test cells."
   ]
  },
  {
   "cell_type": "code",
   "execution_count": 6,
   "metadata": {},
   "outputs": [],
   "source": [
    "A = np.zeros((10, x_train.shape[1]))  # =10x784\n",
    "for i in range(10):\n",
    "    samples = np.array([x_train[r] \n",
    "                       for r in range(len(x_train))\n",
    "                       if y_train[r]==i])\n",
    "    A[i] = np.sum(samples, axis=0)"
   ]
  },
  {
   "cell_type": "code",
   "execution_count": 7,
   "metadata": {},
   "outputs": [],
   "source": [
    "norm = np.linalg.norm(A, ord=2, axis=-1, keepdims=True)\n",
    "A = np.divide(A, norm)"
   ]
  },
  {
   "cell_type": "code",
   "execution_count": 8,
   "metadata": {},
   "outputs": [
    {
     "data": {
      "text/plain": [
       "array([ True,  True,  True,  True,  True,  True,  True,  True,  True,\n",
       "        True])"
      ]
     },
     "execution_count": 8,
     "metadata": {},
     "output_type": "execute_result"
    }
   ],
   "source": [
    "## Test norm, should be all True...\n",
    "np.isclose(np.linalg.norm(A, axis=-1), 1.0)"
   ]
  },
  {
   "cell_type": "code",
   "execution_count": 9,
   "metadata": {},
   "outputs": [
    {
     "data": {
      "image/png": "[encoded data removed]",
      "text/plain": [
       "<Figure size 576x216 with 10 Axes>"
      ]
     },
     "metadata": {
      "needs_background": "light"
     },
     "output_type": "display_data"
    }
   ],
   "source": [
    "## Test sanity, visualize all the template digits\n",
    "f, ax = plt.subplots(2,5, figsize=(8,3))\n",
    "for i in range(5):\n",
    "    ax[0, i].imshow(np.reshape(A[i,:], (28,28)), cmap='gray')\n",
    "    ax[1, i].imshow(np.reshape(A[i+5,:], (28,28)), cmap='gray')\n",
    "\n",
    "[a.axes.get_xaxis().set_visible(False) for a in ax.flatten()]\n",
    "[a.axes.get_yaxis().set_visible(False) for a in ax.flatten()]\n",
    "plt.tight_layout()"
   ]
  },
  {
   "cell_type": "markdown",
   "metadata": {},
   "source": [
    "## 3. Correlate `x_test` against the template matrix.\n",
    "Use [`matmul`](https://numpy.org/doc/stable/reference/generated/numpy.matmul.html) to compute the dot-product of every test case against every digit template. Given that there are 10K test images, our result should be $10000\\times10$."
   ]
  },
  {
   "cell_type": "code",
   "execution_count": 10,
   "metadata": {},
   "outputs": [
    {
     "data": {
      "text/plain": [
       "(10000, 784)"
      ]
     },
     "execution_count": 10,
     "metadata": {},
     "output_type": "execute_result"
    }
   ],
   "source": [
    "x_test.shape"
   ]
  },
  {
   "cell_type": "code",
   "execution_count": 11,
   "metadata": {},
   "outputs": [
    {
     "data": {
      "text/plain": [
       "(10, 784)"
      ]
     },
     "execution_count": 11,
     "metadata": {},
     "output_type": "execute_result"
    }
   ],
   "source": [
    "A.shape"
   ]
  },
  {
   "cell_type": "code",
   "execution_count": 12,
   "metadata": {},
   "outputs": [],
   "source": [
    "x = np.matmul(x_test, A.T)"
   ]
  },
  {
   "cell_type": "markdown",
   "metadata": {},
   "source": [
    "## 4. Compute the classification accuracy of this scheme.\n",
    "Use [`argmax`](https://numpy.org/doc/stable/reference/generated/numpy.argmax.html) to determine for each test case which template digit yielded the best score. Then compute the number that matched the correct labels from `y_test`. "
   ]
  },
  {
   "cell_type": "code",
   "execution_count": 13,
   "metadata": {},
   "outputs": [],
   "source": [
    "scores = np.argmax(x, axis=1)"
   ]
  },
  {
   "cell_type": "code",
   "execution_count": 14,
   "metadata": {},
   "outputs": [
    {
     "data": {
      "text/plain": [
       "((10000,), dtype('int64'), 0, 9)"
      ]
     },
     "execution_count": 14,
     "metadata": {},
     "output_type": "execute_result"
    }
   ],
   "source": [
    "arr_info(scores)"
   ]
  },
  {
   "cell_type": "code",
   "execution_count": 15,
   "metadata": {},
   "outputs": [
    {
     "data": {
      "text/plain": [
       "8195"
      ]
     },
     "execution_count": 15,
     "metadata": {},
     "output_type": "execute_result"
    }
   ],
   "source": [
    "res = (scores==y_test).astype('int')  # where correct=1, wrong=0\n",
    "np.sum(res)  # no. of correct = no. of 1s"
   ]
  },
  {
   "cell_type": "markdown",
   "metadata": {},
   "source": [
    "## 5. Show some examples of the incorrectly-classified digit images from `x_test`\n",
    "Remember you can use [`where`](https://numpy.org/doc/stable/reference/generated/numpy.where.html) to get the indices at which your `argmax` result above do not match the `y_test` labels."
   ]
  },
  {
   "cell_type": "code",
   "execution_count": 16,
   "metadata": {},
   "outputs": [],
   "source": [
    "wrongs = np.where(scores!=y_test)"
   ]
  },
  {
   "cell_type": "code",
   "execution_count": 17,
   "metadata": {},
   "outputs": [
    {
     "data": {
      "image/png": "[encoded data removed]",
      "text/plain": [
       "<Figure size 576x216 with 10 Axes>"
      ]
     },
     "metadata": {
      "needs_background": "light"
     },
     "output_type": "display_data"
    }
   ],
   "source": [
    "f, ax = plt.subplots(2,5, figsize=(8,3))\n",
    "\n",
    "wrong_ex = np.random.choice(wrongs[0], 5)  # choose 5 wrong examples randomly\n",
    "\n",
    "for i in range(5):\n",
    "    ax[0, i].imshow(np.reshape(x_test[wrong_ex[i]], (28,28)), cmap='gray')     # original test pics\n",
    "    ax[1, i].imshow(np.reshape(A[scores[wrong_ex[i]]], (28,28)), cmap='gray')  # wrong predictions illustrated \n",
    "                                                                               # by template digits\n",
    "    ax[0, i].set_title('Original')\n",
    "    ax[1, i].set_title('predicted as ')\n",
    "    \n",
    "[a.axes.get_xaxis().set_visible(False) for a in ax.flatten()]\n",
    "[a.axes.get_yaxis().set_visible(False) for a in ax.flatten()]\n",
    "plt.tight_layout()"
   ]
  },
  {
   "cell_type": "code",
   "execution_count": null,
   "metadata": {},
   "outputs": [],
   "source": []
  }
 ],
 "metadata": {
  "kernelspec": {
   "display_name": "Python 3",
   "language": "python",
   "name": "python3"
  },
  "language_info": {
   "codemirror_mode": {
    "name": "ipython",
    "version": 3
   },
   "file_extension": ".py",
   "mimetype": "text/x-python",
   "name": "python",
   "nbconvert_exporter": "python",
   "pygments_lexer": "ipython3",
   "version": "3.7.3"
  }
 },
 "nbformat": 4,
 "nbformat_minor": 4
}
